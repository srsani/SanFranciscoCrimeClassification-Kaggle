{
 "cells": [
  {
   "cell_type": "markdown",
   "metadata": {},
   "source": [
    "# FeatureEngineering dataset3, Naive Bayes classifier,RandomForestClassifier-LogisticRegression.\n",
    "\n",
    "The following notebook has focused on feature engineering based on, ”DayOfWeek”, “PdDistrict”, ”hour”, \"DayOfYear\", “year”,\"X_Y\" variables and after extracnign dummy variables it has 1556 Colum. "
   ]
  },
  {
   "cell_type": "code",
   "execution_count": 1,
   "metadata": {
    "collapsed": false
   },
   "outputs": [
    {
     "name": "stdout",
     "output_type": "stream",
     "text": [
      "Sohrab \n",
      "last updated: 2016-09-07 \n",
      "\n",
      "CPython 3.5.2\n",
      "IPython 4.2.0\n",
      "\n",
      "numpy 1.11.1\n",
      "pandas 0.18.1\n",
      "matplotlib 1.5.1\n"
     ]
    }
   ],
   "source": [
    "%load_ext watermark\n",
    "%watermark -a 'Sohrab' -u -d -v -p numpy,pandas,matplotlib\n",
    "import pandas as pd\n",
    "from sklearn.cross_validation import train_test_split\n",
    "from sklearn.metrics import log_loss\n",
    "from sklearn.naive_bayes import BernoulliNB\n",
    "from sklearn.linear_model import LogisticRegression\n",
    "from sklearn.ensemble import RandomForestClassifier\n",
    "from sklearn.ensemble import ExtraTreesClassifier\n",
    "\n",
    "\n",
    "from sklearn.linear_model import LogisticRegression\n",
    "from sklearn.metrics import log_loss\n",
    "from sklearn.metrics import roc_curve, roc_auc_score\n",
    "from sklearn.neighbors import KNeighborsClassifier\n",
    "from sklearn.naive_bayes import MultinomialNB\n",
    "\n",
    "from sklearn import tree\n",
    "from sklearn import cross_validation,preprocessing\n",
    "\n",
    "import numpy as np\n",
    "\n",
    "import matplotlib.pyplot as plt\n",
    "%matplotlib inline"
   ]
  },
  {
   "cell_type": "code",
   "execution_count": 2,
   "metadata": {
    "collapsed": true
   },
   "outputs": [],
   "source": [
    "#Load Data with pandas, and parse the first column into datetime\n",
    "train=pd.read_csv('../../Dataset/train-2.csv', parse_dates = ['Dates'])\n",
    "train['DayOfYear'] = train['Dates'].map(lambda x: x.strftime(\"%m-%d\"))\n",
    "train['hour'] = train.Dates.dt.hour\n",
    "train['year'] = train.Dates.dt.year\n",
    "\n",
    "train['X'] = train['X'].round(2)\n",
    "train['Y'] = train['Y'].round(3)\n",
    "\n",
    "def latlong(geo):\n",
    "    latitude,longitude = geo\n",
    "    return latitude,longitude\n",
    "train['X_Y']= train[['X','Y']].apply(latlong, axis=1)"
   ]
  },
  {
   "cell_type": "code",
   "execution_count": 3,
   "metadata": {
    "collapsed": false
   },
   "outputs": [
    {
     "data": {
      "text/html": [
       "<div>\n",
       "<table border=\"1\" class=\"dataframe\">\n",
       "  <thead>\n",
       "    <tr style=\"text-align: right;\">\n",
       "      <th></th>\n",
       "      <th>DayOfWeek_Friday</th>\n",
       "      <th>DayOfWeek_Monday</th>\n",
       "      <th>DayOfWeek_Saturday</th>\n",
       "      <th>DayOfWeek_Sunday</th>\n",
       "      <th>DayOfWeek_Thursday</th>\n",
       "      <th>DayOfWeek_Tuesday</th>\n",
       "      <th>DayOfWeek_Wednesday</th>\n",
       "      <th>PdDistrict_BAYVIEW</th>\n",
       "      <th>PdDistrict_CENTRAL</th>\n",
       "      <th>PdDistrict_INGLESIDE</th>\n",
       "      <th>...</th>\n",
       "      <th>DayOfYear_12-23</th>\n",
       "      <th>DayOfYear_12-24</th>\n",
       "      <th>DayOfYear_12-25</th>\n",
       "      <th>DayOfYear_12-26</th>\n",
       "      <th>DayOfYear_12-27</th>\n",
       "      <th>DayOfYear_12-28</th>\n",
       "      <th>DayOfYear_12-29</th>\n",
       "      <th>DayOfYear_12-30</th>\n",
       "      <th>DayOfYear_12-31</th>\n",
       "      <th>crime</th>\n",
       "    </tr>\n",
       "  </thead>\n",
       "  <tbody>\n",
       "    <tr>\n",
       "      <th>0</th>\n",
       "      <td>0.0</td>\n",
       "      <td>0.0</td>\n",
       "      <td>0.0</td>\n",
       "      <td>0.0</td>\n",
       "      <td>0.0</td>\n",
       "      <td>0.0</td>\n",
       "      <td>1.0</td>\n",
       "      <td>0.0</td>\n",
       "      <td>0.0</td>\n",
       "      <td>0.0</td>\n",
       "      <td>...</td>\n",
       "      <td>0.0</td>\n",
       "      <td>0.0</td>\n",
       "      <td>0.0</td>\n",
       "      <td>0.0</td>\n",
       "      <td>0.0</td>\n",
       "      <td>0.0</td>\n",
       "      <td>0.0</td>\n",
       "      <td>0.0</td>\n",
       "      <td>0.0</td>\n",
       "      <td>37</td>\n",
       "    </tr>\n",
       "    <tr>\n",
       "      <th>1</th>\n",
       "      <td>0.0</td>\n",
       "      <td>0.0</td>\n",
       "      <td>0.0</td>\n",
       "      <td>0.0</td>\n",
       "      <td>0.0</td>\n",
       "      <td>0.0</td>\n",
       "      <td>1.0</td>\n",
       "      <td>0.0</td>\n",
       "      <td>0.0</td>\n",
       "      <td>0.0</td>\n",
       "      <td>...</td>\n",
       "      <td>0.0</td>\n",
       "      <td>0.0</td>\n",
       "      <td>0.0</td>\n",
       "      <td>0.0</td>\n",
       "      <td>0.0</td>\n",
       "      <td>0.0</td>\n",
       "      <td>0.0</td>\n",
       "      <td>0.0</td>\n",
       "      <td>0.0</td>\n",
       "      <td>21</td>\n",
       "    </tr>\n",
       "    <tr>\n",
       "      <th>2</th>\n",
       "      <td>0.0</td>\n",
       "      <td>0.0</td>\n",
       "      <td>0.0</td>\n",
       "      <td>0.0</td>\n",
       "      <td>0.0</td>\n",
       "      <td>0.0</td>\n",
       "      <td>1.0</td>\n",
       "      <td>0.0</td>\n",
       "      <td>0.0</td>\n",
       "      <td>0.0</td>\n",
       "      <td>...</td>\n",
       "      <td>0.0</td>\n",
       "      <td>0.0</td>\n",
       "      <td>0.0</td>\n",
       "      <td>0.0</td>\n",
       "      <td>0.0</td>\n",
       "      <td>0.0</td>\n",
       "      <td>0.0</td>\n",
       "      <td>0.0</td>\n",
       "      <td>0.0</td>\n",
       "      <td>21</td>\n",
       "    </tr>\n",
       "    <tr>\n",
       "      <th>3</th>\n",
       "      <td>0.0</td>\n",
       "      <td>0.0</td>\n",
       "      <td>0.0</td>\n",
       "      <td>0.0</td>\n",
       "      <td>0.0</td>\n",
       "      <td>0.0</td>\n",
       "      <td>1.0</td>\n",
       "      <td>0.0</td>\n",
       "      <td>0.0</td>\n",
       "      <td>0.0</td>\n",
       "      <td>...</td>\n",
       "      <td>0.0</td>\n",
       "      <td>0.0</td>\n",
       "      <td>0.0</td>\n",
       "      <td>0.0</td>\n",
       "      <td>0.0</td>\n",
       "      <td>0.0</td>\n",
       "      <td>0.0</td>\n",
       "      <td>0.0</td>\n",
       "      <td>0.0</td>\n",
       "      <td>16</td>\n",
       "    </tr>\n",
       "    <tr>\n",
       "      <th>4</th>\n",
       "      <td>0.0</td>\n",
       "      <td>0.0</td>\n",
       "      <td>0.0</td>\n",
       "      <td>0.0</td>\n",
       "      <td>0.0</td>\n",
       "      <td>0.0</td>\n",
       "      <td>1.0</td>\n",
       "      <td>0.0</td>\n",
       "      <td>0.0</td>\n",
       "      <td>0.0</td>\n",
       "      <td>...</td>\n",
       "      <td>0.0</td>\n",
       "      <td>0.0</td>\n",
       "      <td>0.0</td>\n",
       "      <td>0.0</td>\n",
       "      <td>0.0</td>\n",
       "      <td>0.0</td>\n",
       "      <td>0.0</td>\n",
       "      <td>0.0</td>\n",
       "      <td>0.0</td>\n",
       "      <td>16</td>\n",
       "    </tr>\n",
       "  </tbody>\n",
       "</table>\n",
       "<p>5 rows × 1556 columns</p>\n",
       "</div>"
      ],
      "text/plain": [
       "   DayOfWeek_Friday  DayOfWeek_Monday  DayOfWeek_Saturday  DayOfWeek_Sunday  \\\n",
       "0               0.0               0.0                 0.0               0.0   \n",
       "1               0.0               0.0                 0.0               0.0   \n",
       "2               0.0               0.0                 0.0               0.0   \n",
       "3               0.0               0.0                 0.0               0.0   \n",
       "4               0.0               0.0                 0.0               0.0   \n",
       "\n",
       "   DayOfWeek_Thursday  DayOfWeek_Tuesday  DayOfWeek_Wednesday  \\\n",
       "0                 0.0                0.0                  1.0   \n",
       "1                 0.0                0.0                  1.0   \n",
       "2                 0.0                0.0                  1.0   \n",
       "3                 0.0                0.0                  1.0   \n",
       "4                 0.0                0.0                  1.0   \n",
       "\n",
       "   PdDistrict_BAYVIEW  PdDistrict_CENTRAL  PdDistrict_INGLESIDE  ...    \\\n",
       "0                 0.0                 0.0                   0.0  ...     \n",
       "1                 0.0                 0.0                   0.0  ...     \n",
       "2                 0.0                 0.0                   0.0  ...     \n",
       "3                 0.0                 0.0                   0.0  ...     \n",
       "4                 0.0                 0.0                   0.0  ...     \n",
       "\n",
       "   DayOfYear_12-23  DayOfYear_12-24  DayOfYear_12-25  DayOfYear_12-26  \\\n",
       "0              0.0              0.0              0.0              0.0   \n",
       "1              0.0              0.0              0.0              0.0   \n",
       "2              0.0              0.0              0.0              0.0   \n",
       "3              0.0              0.0              0.0              0.0   \n",
       "4              0.0              0.0              0.0              0.0   \n",
       "\n",
       "   DayOfYear_12-27  DayOfYear_12-28  DayOfYear_12-29  DayOfYear_12-30  \\\n",
       "0              0.0              0.0              0.0              0.0   \n",
       "1              0.0              0.0              0.0              0.0   \n",
       "2              0.0              0.0              0.0              0.0   \n",
       "3              0.0              0.0              0.0              0.0   \n",
       "4              0.0              0.0              0.0              0.0   \n",
       "\n",
       "   DayOfYear_12-31  crime  \n",
       "0              0.0     37  \n",
       "1              0.0     21  \n",
       "2              0.0     21  \n",
       "3              0.0     16  \n",
       "4              0.0     16  \n",
       "\n",
       "[5 rows x 1556 columns]"
      ]
     },
     "execution_count": 3,
     "metadata": {},
     "output_type": "execute_result"
    }
   ],
   "source": [
    "cate_variables = ['DayOfWeek','PdDistrict','hour','year','X_Y','DayOfYear']\n",
    "dfTrain = pd.DataFrame()\n",
    "\n",
    "for var_name in cate_variables: \n",
    "    \n",
    "    df = pd.get_dummies(train[var_name], prefix=var_name) \n",
    "    train = train.drop([var_name], axis = 1)\n",
    "    \n",
    "    if dfTrain.empty:\n",
    "        dfTrain = df\n",
    "    else:\n",
    "        dfTrain = dfTrain.join(df)\n",
    "        \n",
    "crimeCat = preprocessing.LabelEncoder()\n",
    "crime = crimeCat.fit_transform(train.Category)   \n",
    "dfTrain['crime']=crime\n",
    "dfTrain = dfTrain.drop(['X_Y_(-122.37, 37.729999999999997)', \n",
    "                        'X_Y_(-122.37, 37.731000000000002)',\n",
    "                        'X_Y_(-122.37, 37.731999999999999)',\n",
    "                        'X_Y_(-122.37, 37.810000000000002)',\n",
    "                         ], axis = 1)\n",
    "dfTrain.head()"
   ]
  },
  {
   "cell_type": "code",
   "execution_count": 4,
   "metadata": {
    "collapsed": false
   },
   "outputs": [
    {
     "name": "stdout",
     "output_type": "stream",
     "text": [
      "alpha:  10 LogLoss:  2.6661066312\n",
      "alpha:  30 LogLoss:  3.11982839779\n",
      "alpha:  50 LogLoss:  3.57107604508\n",
      "alpha:  70 LogLoss:  3.96454994911\n",
      "alpha:  90 LogLoss:  4.35544732454\n",
      "alpha:  110 LogLoss:  4.73363448301\n",
      "alpha:  130 LogLoss:  5.04085829536\n",
      "alpha:  150 LogLoss:  5.36143098597\n",
      "alpha:  170 LogLoss:  5.69421992785\n",
      "alpha:  190 LogLoss:  6.02525571306\n",
      "alpha:  210 LogLoss:  6.33007350952\n",
      "alpha:  230 LogLoss:  6.61175521364\n",
      "alpha:  250 LogLoss:  6.88660987864\n",
      "alpha:  270 LogLoss:  7.14884665751\n",
      "alpha:  290 LogLoss:  7.38755154254\n",
      "alpha:  310 LogLoss:  7.61967257123\n",
      "alpha:  330 LogLoss:  7.85481255639\n",
      "alpha:  350 LogLoss:  8.0926929196\n",
      "alpha:  370 LogLoss:  8.33296860409\n",
      "alpha:  390 LogLoss:  8.57534782826\n",
      "alpha:  410 LogLoss:  8.81958169844\n",
      "alpha:  430 LogLoss:  9.0653555103\n",
      "alpha:  450 LogLoss:  9.30737497341\n",
      "alpha:  470 LogLoss:  9.53573486535\n",
      "alpha:  490 LogLoss:  9.75814860789\n",
      "alpha:  510 LogLoss:  9.98137436594\n",
      "alpha:  530 LogLoss:  10.2055632797\n",
      "alpha:  550 LogLoss:  10.4306173039\n",
      "alpha:  570 LogLoss:  10.6564480987\n",
      "alpha:  590 LogLoss:  10.8829757188\n"
     ]
    },
    {
     "data": {
      "text/plain": [
       "[<matplotlib.lines.Line2D at 0x7fb883be9e48>]"
      ]
     },
     "execution_count": 4,
     "metadata": {},
     "output_type": "execute_result"
    },
    {
     "data": {
      "image/png": "[encoded data removed]",
      "text/plain": [
       "<matplotlib.figure.Figure at 0x7fb88e2bdc88>"
      ]
     },
     "metadata": {},
     "output_type": "display_data"
    }
   ],
   "source": [
    "LLscores = []\n",
    "for a in range (10, 600, 20):\n",
    "    \n",
    "    model = BernoulliNB(alpha = a)\n",
    "    \n",
    "    model.fit(dfTrain.drop(['crime'], axis = 1), dfTrain['crime'])\n",
    "    predicted = np.array(model.predict_proba(dfTrain.drop(['crime'], axis = 1)))\n",
    "    score = log_loss(dfTrain['crime'], predicted) \n",
    "    print (\"alpha: \", a, \"LogLoss: \", score)\n",
    "    LLscores.append(score)\n",
    "df  = pd.DataFrame({'alpha': range(10, 600, 20), 'LogLoss': LLscores})\n",
    "df= df.set_index(['LogLoss'])\n",
    "plt.plot(df)"
   ]
  },
  {
   "cell_type": "code",
   "execution_count": 5,
   "metadata": {
    "collapsed": false
   },
   "outputs": [
    {
     "name": "stdout",
     "output_type": "stream",
     "text": [
      "n_estimators:  10 LogLoss:  2.15923563817\n",
      "n_estimators:  30 LogLoss:  2.1283967279\n",
      "n_estimators:  50 LogLoss:  2.1183708623\n",
      "n_estimators:  70 LogLoss:  2.11617089343\n",
      "n_estimators:  90 LogLoss:  2.11414852369\n",
      "n_estimators:  110 LogLoss:  2.11287986053\n",
      "n_estimators:  130 LogLoss:  2.11156047022\n",
      "n_estimators:  150 LogLoss:  2.11199736675\n",
      "n_estimators:  170 LogLoss:  2.11100530047\n",
      "n_estimators:  190 LogLoss:  2.11170982223\n",
      "n_estimators:  210 LogLoss:  2.11060566327\n",
      "n_estimators:  230 LogLoss:  2.11049758471\n",
      "n_estimators:  250 LogLoss:  2.11005541496\n",
      "n_estimators:  270 LogLoss:  2.11029766203\n",
      "n_estimators:  290 LogLoss:  2.10966070654\n"
     ]
    },
    {
     "data": {
      "text/plain": [
       "[<matplotlib.lines.Line2D at 0x7fb883ac6588>]"
      ]
     },
     "execution_count": 5,
     "metadata": {},
     "output_type": "execute_result"
    },
    {
     "data": {
      "image/png": "[encoded data removed]",
      "text/plain": [
       "<matplotlib.figure.Figure at 0x7fb88e2bdc50>"
      ]
     },
     "metadata": {},
     "output_type": "display_data"
    }
   ],
   "source": [
    "LLscores = []\n",
    "for a in range (10, 300, 20):\n",
    "    model = RandomForestClassifier(n_estimators = a , \n",
    "                                       min_samples_split = 200, \n",
    "                                       criterion = 'entropy', \n",
    "                                       n_jobs = -1)\n",
    "    model.fit(dfTrain.drop(['crime'], axis = 1), dfTrain['crime'])\n",
    "    predicted = np.array(model.predict_proba(dfTrain.drop(['crime'], axis = 1)))\n",
    "    score = log_loss(dfTrain['crime'], predicted) \n",
    "    print (\"n_estimators: \", a, \"LogLoss: \", score)\n",
    "    LLscores.append(score)\n",
    "df  = pd.DataFrame({'n_estimators': range(10, 300, 20), 'LogLoss': LLscores})\n",
    "df= df.set_index(['LogLoss'])\n",
    "plt.plot(df)"
   ]
  },
  {
   "cell_type": "code",
   "execution_count": 6,
   "metadata": {
    "collapsed": false
   },
   "outputs": [
    {
     "name": "stdout",
     "output_type": "stream",
     "text": [
      "n_estimators:  10 LogLoss:  2.15751872602\n",
      "n_estimators:  30 LogLoss:  2.12676269991\n",
      "n_estimators:  50 LogLoss:  2.11891029823\n",
      "n_estimators:  70 LogLoss:  2.11587727931\n",
      "n_estimators:  90 LogLoss:  2.11422730505\n",
      "n_estimators:  110 LogLoss:  2.11306892996\n",
      "n_estimators:  130 LogLoss:  2.11338509513\n",
      "n_estimators:  150 LogLoss:  2.1118786991\n",
      "n_estimators:  170 LogLoss:  2.11136224433\n",
      "n_estimators:  190 LogLoss:  2.11079892968\n",
      "n_estimators:  210 LogLoss:  2.1106053275\n",
      "n_estimators:  230 LogLoss:  2.10991740412\n",
      "n_estimators:  250 LogLoss:  2.11015225061\n",
      "n_estimators:  270 LogLoss:  2.10989118464\n",
      "n_estimators:  290 LogLoss:  2.10986385389\n"
     ]
    },
    {
     "data": {
      "text/plain": [
       "[<matplotlib.lines.Line2D at 0x7fb883aaeac8>]"
      ]
     },
     "execution_count": 6,
     "metadata": {},
     "output_type": "execute_result"
    },
    {
     "data": {
      "image/png": "[encoded data removed]",
      "text/plain": [
       "<matplotlib.figure.Figure at 0x7fb883ad9c50>"
      ]
     },
     "metadata": {},
     "output_type": "display_data"
    }
   ],
   "source": [
    "LLscores = []\n",
    "for a in range (10, 300, 20):\n",
    "    model = RandomForestClassifier(n_estimators = a , \n",
    "                                       min_samples_split = 200, \n",
    "                                       criterion = 'entropy',\n",
    "                                       n_jobs = -1)\n",
    "    model.fit(dfTrain.drop(['crime'], axis = 1), dfTrain['crime'])\n",
    "    predicted = np.array(model.predict_proba(dfTrain.drop(['crime'], axis = 1)))\n",
    "    score = log_loss(dfTrain['crime'], predicted) \n",
    "    print (\"n_estimators: \", a, \"LogLoss: \", score)\n",
    "    LLscores.append(score)\n",
    "df  = pd.DataFrame({'n_estimators': range(10, 300, 20), 'LogLoss': LLscores})\n",
    "df= df.set_index(['LogLoss'])\n",
    "plt.plot(df)"
   ]
  },
  {
   "cell_type": "code",
   "execution_count": 7,
   "metadata": {
    "collapsed": false
   },
   "outputs": [
    {
     "name": "stdout",
     "output_type": "stream",
     "text": [
      "min_samples_split:  10 LogLoss:  1.04252588111\n",
      "min_samples_split:  30 LogLoss:  1.35823024707\n",
      "min_samples_split:  50 LogLoss:  1.49952685866\n",
      "min_samples_split:  70 LogLoss:  1.59867839528\n",
      "min_samples_split:  90 LogLoss:  1.6760988653\n",
      "min_samples_split:  110 LogLoss:  1.73685344818\n",
      "min_samples_split:  130 LogLoss:  1.78672086828\n",
      "min_samples_split:  150 LogLoss:  1.8295083375\n",
      "min_samples_split:  170 LogLoss:  1.8655950826\n",
      "min_samples_split:  190 LogLoss:  1.89612121077\n",
      "min_samples_split:  210 LogLoss:  1.92430653586\n",
      "min_samples_split:  230 LogLoss:  1.9487086413\n",
      "min_samples_split:  250 LogLoss:  1.96777791883\n",
      "min_samples_split:  270 LogLoss:  1.98691242464\n",
      "min_samples_split:  290 LogLoss:  2.00476706425\n",
      "min_samples_split:  310 LogLoss:  2.0213537999\n",
      "min_samples_split:  330 LogLoss:  2.03689038212\n",
      "min_samples_split:  350 LogLoss:  2.05048486084\n",
      "min_samples_split:  370 LogLoss:  2.06437328225\n",
      "min_samples_split:  390 LogLoss:  2.07511899387\n",
      "min_samples_split:  410 LogLoss:  2.08843239569\n",
      "min_samples_split:  430 LogLoss:  2.09860619023\n",
      "min_samples_split:  450 LogLoss:  2.10916555138\n",
      "min_samples_split:  470 LogLoss:  2.1197312817\n",
      "min_samples_split:  490 LogLoss:  2.12874642143\n"
     ]
    },
    {
     "data": {
      "text/plain": [
       "[<matplotlib.lines.Line2D at 0x7fb883a134e0>]"
      ]
     },
     "execution_count": 7,
     "metadata": {},
     "output_type": "execute_result"
    },
    {
     "data": {
      "image/png": "[encoded data removed]",
      "text/plain": [
       "<matplotlib.figure.Figure at 0x7fb883b8b6d8>"
      ]
     },
     "metadata": {},
     "output_type": "display_data"
    }
   ],
   "source": [
    "LLscores = []\n",
    "for a in range (10, 500, 20):\n",
    "    model = RandomForestClassifier(n_estimators = 200 , \n",
    "                                       min_samples_split = a,  \n",
    "                                       n_jobs = -1)\n",
    "    model.fit(dfTrain.drop(['crime'], axis = 1), dfTrain['crime'])\n",
    "    predicted = np.array(model.predict_proba(dfTrain.drop(['crime'], axis = 1)))\n",
    "    score = log_loss(dfTrain['crime'], predicted) \n",
    "    print (\"min_samples_split: \", a, \"LogLoss: \", score)\n",
    "    LLscores.append(score)\n",
    "df  = pd.DataFrame({'min_samples_split': range(10, 500, 20), 'LogLoss': LLscores})\n",
    "df= df.set_index(['LogLoss'])\n",
    "plt.plot(df)"
   ]
  },
  {
   "cell_type": "markdown",
   "metadata": {
    "collapsed": true
   },
   "source": [
    "\n",
    "# Making a prediction on the test data set\n",
    "\n",
    "Initially we need to convert the test dataset to dummy variables similar to what we did to make “dfTrain”.\n",
    "\n"
   ]
  },
  {
   "cell_type": "code",
   "execution_count": 13,
   "metadata": {
    "collapsed": false
   },
   "outputs": [
    {
     "data": {
      "text/html": [
       "<div>\n",
       "<table border=\"1\" class=\"dataframe\">\n",
       "  <thead>\n",
       "    <tr style=\"text-align: right;\">\n",
       "      <th></th>\n",
       "      <th>DayOfWeek_Friday</th>\n",
       "      <th>DayOfWeek_Monday</th>\n",
       "      <th>DayOfWeek_Saturday</th>\n",
       "      <th>DayOfWeek_Sunday</th>\n",
       "      <th>DayOfWeek_Thursday</th>\n",
       "      <th>DayOfWeek_Tuesday</th>\n",
       "      <th>DayOfWeek_Wednesday</th>\n",
       "      <th>PdDistrict_BAYVIEW</th>\n",
       "      <th>PdDistrict_CENTRAL</th>\n",
       "      <th>PdDistrict_INGLESIDE</th>\n",
       "      <th>...</th>\n",
       "      <th>X_Y_(-122.37, 37.729999999999997)</th>\n",
       "      <th>X_Y_(-122.37, 37.731000000000002)</th>\n",
       "      <th>X_Y_(-122.37, 37.731999999999999)</th>\n",
       "      <th>X_Y_(-122.37, 37.810000000000002)</th>\n",
       "      <th>X_Y_(-122.37, 37.814999999999998)</th>\n",
       "      <th>X_Y_(-122.37, 37.817)</th>\n",
       "      <th>X_Y_(-122.37, 37.82)</th>\n",
       "      <th>X_Y_(-122.36, 37.810000000000002)</th>\n",
       "      <th>X_Y_(-122.36, 37.820999999999998)</th>\n",
       "      <th>X_Y_(-120.5, 90.0)</th>\n",
       "    </tr>\n",
       "  </thead>\n",
       "  <tbody>\n",
       "    <tr>\n",
       "      <th>0</th>\n",
       "      <td>0.0</td>\n",
       "      <td>0.0</td>\n",
       "      <td>0.0</td>\n",
       "      <td>1.0</td>\n",
       "      <td>0.0</td>\n",
       "      <td>0.0</td>\n",
       "      <td>0.0</td>\n",
       "      <td>1.0</td>\n",
       "      <td>0.0</td>\n",
       "      <td>0.0</td>\n",
       "      <td>...</td>\n",
       "      <td>0.0</td>\n",
       "      <td>0.0</td>\n",
       "      <td>0.0</td>\n",
       "      <td>0.0</td>\n",
       "      <td>0.0</td>\n",
       "      <td>0.0</td>\n",
       "      <td>0.0</td>\n",
       "      <td>0.0</td>\n",
       "      <td>0.0</td>\n",
       "      <td>0.0</td>\n",
       "    </tr>\n",
       "    <tr>\n",
       "      <th>1</th>\n",
       "      <td>0.0</td>\n",
       "      <td>0.0</td>\n",
       "      <td>0.0</td>\n",
       "      <td>1.0</td>\n",
       "      <td>0.0</td>\n",
       "      <td>0.0</td>\n",
       "      <td>0.0</td>\n",
       "      <td>1.0</td>\n",
       "      <td>0.0</td>\n",
       "      <td>0.0</td>\n",
       "      <td>...</td>\n",
       "      <td>0.0</td>\n",
       "      <td>0.0</td>\n",
       "      <td>0.0</td>\n",
       "      <td>0.0</td>\n",
       "      <td>0.0</td>\n",
       "      <td>0.0</td>\n",
       "      <td>0.0</td>\n",
       "      <td>0.0</td>\n",
       "      <td>0.0</td>\n",
       "      <td>0.0</td>\n",
       "    </tr>\n",
       "    <tr>\n",
       "      <th>2</th>\n",
       "      <td>0.0</td>\n",
       "      <td>0.0</td>\n",
       "      <td>0.0</td>\n",
       "      <td>1.0</td>\n",
       "      <td>0.0</td>\n",
       "      <td>0.0</td>\n",
       "      <td>0.0</td>\n",
       "      <td>0.0</td>\n",
       "      <td>0.0</td>\n",
       "      <td>0.0</td>\n",
       "      <td>...</td>\n",
       "      <td>0.0</td>\n",
       "      <td>0.0</td>\n",
       "      <td>0.0</td>\n",
       "      <td>0.0</td>\n",
       "      <td>0.0</td>\n",
       "      <td>0.0</td>\n",
       "      <td>0.0</td>\n",
       "      <td>0.0</td>\n",
       "      <td>0.0</td>\n",
       "      <td>0.0</td>\n",
       "    </tr>\n",
       "    <tr>\n",
       "      <th>3</th>\n",
       "      <td>0.0</td>\n",
       "      <td>0.0</td>\n",
       "      <td>0.0</td>\n",
       "      <td>1.0</td>\n",
       "      <td>0.0</td>\n",
       "      <td>0.0</td>\n",
       "      <td>0.0</td>\n",
       "      <td>0.0</td>\n",
       "      <td>0.0</td>\n",
       "      <td>1.0</td>\n",
       "      <td>...</td>\n",
       "      <td>0.0</td>\n",
       "      <td>0.0</td>\n",
       "      <td>0.0</td>\n",
       "      <td>0.0</td>\n",
       "      <td>0.0</td>\n",
       "      <td>0.0</td>\n",
       "      <td>0.0</td>\n",
       "      <td>0.0</td>\n",
       "      <td>0.0</td>\n",
       "      <td>0.0</td>\n",
       "    </tr>\n",
       "    <tr>\n",
       "      <th>4</th>\n",
       "      <td>0.0</td>\n",
       "      <td>0.0</td>\n",
       "      <td>0.0</td>\n",
       "      <td>1.0</td>\n",
       "      <td>0.0</td>\n",
       "      <td>0.0</td>\n",
       "      <td>0.0</td>\n",
       "      <td>0.0</td>\n",
       "      <td>0.0</td>\n",
       "      <td>1.0</td>\n",
       "      <td>...</td>\n",
       "      <td>0.0</td>\n",
       "      <td>0.0</td>\n",
       "      <td>0.0</td>\n",
       "      <td>0.0</td>\n",
       "      <td>0.0</td>\n",
       "      <td>0.0</td>\n",
       "      <td>0.0</td>\n",
       "      <td>0.0</td>\n",
       "      <td>0.0</td>\n",
       "      <td>0.0</td>\n",
       "    </tr>\n",
       "  </tbody>\n",
       "</table>\n",
       "<p>5 rows × 1555 columns</p>\n",
       "</div>"
      ],
      "text/plain": [
       "   DayOfWeek_Friday  DayOfWeek_Monday  DayOfWeek_Saturday  DayOfWeek_Sunday  \\\n",
       "0               0.0               0.0                 0.0               1.0   \n",
       "1               0.0               0.0                 0.0               1.0   \n",
       "2               0.0               0.0                 0.0               1.0   \n",
       "3               0.0               0.0                 0.0               1.0   \n",
       "4               0.0               0.0                 0.0               1.0   \n",
       "\n",
       "   DayOfWeek_Thursday  DayOfWeek_Tuesday  DayOfWeek_Wednesday  \\\n",
       "0                 0.0                0.0                  0.0   \n",
       "1                 0.0                0.0                  0.0   \n",
       "2                 0.0                0.0                  0.0   \n",
       "3                 0.0                0.0                  0.0   \n",
       "4                 0.0                0.0                  0.0   \n",
       "\n",
       "   PdDistrict_BAYVIEW  PdDistrict_CENTRAL  PdDistrict_INGLESIDE  \\\n",
       "0                 1.0                 0.0                   0.0   \n",
       "1                 1.0                 0.0                   0.0   \n",
       "2                 0.0                 0.0                   0.0   \n",
       "3                 0.0                 0.0                   1.0   \n",
       "4                 0.0                 0.0                   1.0   \n",
       "\n",
       "          ...          X_Y_(-122.37, 37.729999999999997)  \\\n",
       "0         ...                                        0.0   \n",
       "1         ...                                        0.0   \n",
       "2         ...                                        0.0   \n",
       "3         ...                                        0.0   \n",
       "4         ...                                        0.0   \n",
       "\n",
       "   X_Y_(-122.37, 37.731000000000002)  X_Y_(-122.37, 37.731999999999999)  \\\n",
       "0                                0.0                                0.0   \n",
       "1                                0.0                                0.0   \n",
       "2                                0.0                                0.0   \n",
       "3                                0.0                                0.0   \n",
       "4                                0.0                                0.0   \n",
       "\n",
       "   X_Y_(-122.37, 37.810000000000002)  X_Y_(-122.37, 37.814999999999998)  \\\n",
       "0                                0.0                                0.0   \n",
       "1                                0.0                                0.0   \n",
       "2                                0.0                                0.0   \n",
       "3                                0.0                                0.0   \n",
       "4                                0.0                                0.0   \n",
       "\n",
       "   X_Y_(-122.37, 37.817)  X_Y_(-122.37, 37.82)  \\\n",
       "0                    0.0                   0.0   \n",
       "1                    0.0                   0.0   \n",
       "2                    0.0                   0.0   \n",
       "3                    0.0                   0.0   \n",
       "4                    0.0                   0.0   \n",
       "\n",
       "   X_Y_(-122.36, 37.810000000000002)  X_Y_(-122.36, 37.820999999999998)  \\\n",
       "0                                0.0                                0.0   \n",
       "1                                0.0                                0.0   \n",
       "2                                0.0                                0.0   \n",
       "3                                0.0                                0.0   \n",
       "4                                0.0                                0.0   \n",
       "\n",
       "   X_Y_(-120.5, 90.0)  \n",
       "0                 0.0  \n",
       "1                 0.0  \n",
       "2                 0.0  \n",
       "3                 0.0  \n",
       "4                 0.0  \n",
       "\n",
       "[5 rows x 1555 columns]"
      ]
     },
     "execution_count": 13,
     "metadata": {},
     "output_type": "execute_result"
    }
   ],
   "source": [
    "test=pd.read_csv('../../Dataset/test-2.csv', parse_dates = ['Dates'])\n",
    "test['DayOfYear'] = test['Dates'].map(lambda x: x.strftime(\"%m-%d\"))\n",
    "test['hour'] = test.Dates.dt.hour\n",
    "test['year'] = test.Dates.dt.year\n",
    "\n",
    "test['X'] = test['X'].round(2)\n",
    "test['Y'] = test['Y'].round(3)\n",
    "\n",
    "def latlong(geo):\n",
    "    latitude,longitude = geo\n",
    "    return latitude,longitude\n",
    "test['X_Y']= test[['X','Y']].apply(latlong, axis=1)\n",
    "\n",
    "cate_variables = ['DayOfWeek','PdDistrict','hour','year','DayOfYear', 'X_Y']\n",
    "\n",
    "dfTest = pd.DataFrame()\n",
    "\n",
    "for var_name in cate_variables: \n",
    "    \n",
    "    df = pd.get_dummies(test[var_name], prefix=var_name) \n",
    "    test = test.drop([var_name], axis = 1)\n",
    "    \n",
    "    if dfTest.empty:\n",
    "        dfTest = df\n",
    "    else:\n",
    "        dfTest = dfTest.join(df)\n",
    "        \n",
    "dfTest = dfTest.drop(['DayOfYear_01-03', 'DayOfYear_01-04'], axis = 1)\n",
    "dfTest.head()"
   ]
  },
  {
   "cell_type": "markdown",
   "metadata": {
    "collapsed": true
   },
   "source": [
    "## RandomForestClassifier\n",
    "For this model with bot X-Y and days of year we have 2.1968014 on train data set and  and 2.55079 on sumited result log_loss.  \n"
   ]
  },
  {
   "cell_type": "code",
   "execution_count": 14,
   "metadata": {
    "collapsed": false
   },
   "outputs": [
    {
     "data": {
      "text/plain": [
       "2.1972361211523928"
      ]
     },
     "execution_count": 14,
     "metadata": {},
     "output_type": "execute_result"
    }
   ],
   "source": [
    "model = RandomForestClassifier(n_estimators = 230 , \n",
    "                               min_samples_split = 300, \n",
    "                               criterion = 'entropy', \n",
    "                               n_jobs = -1)\n",
    "\n",
    "model.fit(dfTrain.drop(['crime'], axis = 1), dfTrain['crime'])\n",
    "predicted = np.array(model.predict_proba(dfTrain.drop(['crime'], axis = 1)))\n",
    "log_loss(dfTrain['crime'], predicted)"
   ]
  },
  {
   "cell_type": "code",
   "execution_count": 15,
   "metadata": {
    "collapsed": true
   },
   "outputs": [],
   "source": [
    "predicted = model.predict_proba(dfTest)\n",
    "result=pd.DataFrame(predicted, columns =crimeCat.classes_)\n",
    "result.to_csv('../../Prediction/RandomForestClassifier_DS3.csv', index = True, index_label = 'Id' )"
   ]
  }
 ],
 "metadata": {
  "anaconda-cloud": {},
  "kernelspec": {
   "display_name": "Python [Root]",
   "language": "python",
   "name": "Python [Root]"
  },
  "language_info": {
   "codemirror_mode": {
    "name": "ipython",
    "version": 3
   },
   "file_extension": ".py",
   "mimetype": "text/x-python",
   "name": "python",
   "nbconvert_exporter": "python",
   "pygments_lexer": "ipython3",
   "version": "3.5.2"
  }
 },
 "nbformat": 4,
 "nbformat_minor": 0
}
