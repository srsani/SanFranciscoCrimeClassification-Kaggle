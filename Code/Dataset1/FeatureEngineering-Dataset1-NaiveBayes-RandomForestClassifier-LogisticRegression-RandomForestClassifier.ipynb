{
 "cells": [
  {
   "cell_type": "markdown",
   "metadata": {},
   "source": [
    "# FeatureEngineering ver1, Naive Bayes classifier,RandomForestClassifier-LogisticRegression.\n",
    "\n",
    "The following notebook has focused on feature engineering based on, ”DayOfWeek”, “PdDistrict”, ”hour”, and “year” variables and after extracnign dummy variables it has 55 columns. \n"
   ]
  },
  {
   "cell_type": "code",
   "execution_count": 1,
   "metadata": {
    "collapsed": false
   },
   "outputs": [
    {
     "name": "stdout",
     "output_type": "stream",
     "text": [
      "Sohrab \n",
      "last updated: 2016-09-01 \n",
      "\n",
      "CPython 3.5.2\n",
      "IPython 4.2.0\n",
      "\n",
      "numpy 1.11.1\n",
      "pandas 0.18.1\n",
      "matplotlib 1.5.1\n"
     ]
    }
   ],
   "source": [
    "%load_ext watermark\n",
    "%watermark -a 'Sohrab' -u -d -v -p numpy,pandas,matplotlib\n",
    "import pandas as pd\n",
    "from sklearn.cross_validation import train_test_split\n",
    "from sklearn.metrics import log_loss\n",
    "from sklearn.naive_bayes import BernoulliNB\n",
    "from sklearn.linear_model import LogisticRegression\n",
    "from sklearn.ensemble import RandomForestClassifier\n",
    "from sklearn.ensemble import ExtraTreesClassifier\n",
    "\n",
    "\n",
    "from sklearn.linear_model import LogisticRegression\n",
    "from sklearn.metrics import log_loss\n",
    "from sklearn.metrics import roc_curve, roc_auc_score\n",
    "from sklearn.neighbors import KNeighborsClassifier\n",
    "from sklearn import tree\n",
    "from sklearn import cross_validation,preprocessing\n",
    "\n",
    "import numpy as np\n",
    "\n",
    "import matplotlib.pyplot as plt\n",
    "%matplotlib inline"
   ]
  },
  {
   "cell_type": "code",
   "execution_count": 2,
   "metadata": {
    "collapsed": false
   },
   "outputs": [],
   "source": [
    "#Load Data with pandas, and parse the first column into datetime\n",
    "train=pd.read_csv('../../Dataset/train-2.csv', parse_dates = ['Dates'])\n",
    "train['hour'] = train.Dates.dt.hour\n",
    "train['year'] = train.Dates.dt.year"
   ]
  },
  {
   "cell_type": "code",
   "execution_count": 3,
   "metadata": {
    "collapsed": false
   },
   "outputs": [
    {
     "data": {
      "text/html": [
       "<div>\n",
       "<table border=\"1\" class=\"dataframe\">\n",
       "  <thead>\n",
       "    <tr style=\"text-align: right;\">\n",
       "      <th></th>\n",
       "      <th>Dates</th>\n",
       "      <th>Category</th>\n",
       "      <th>Descript</th>\n",
       "      <th>DayOfWeek</th>\n",
       "      <th>PdDistrict</th>\n",
       "      <th>Resolution</th>\n",
       "      <th>Address</th>\n",
       "      <th>X</th>\n",
       "      <th>Y</th>\n",
       "      <th>hour</th>\n",
       "      <th>year</th>\n",
       "    </tr>\n",
       "  </thead>\n",
       "  <tbody>\n",
       "    <tr>\n",
       "      <th>0</th>\n",
       "      <td>2015-05-13 23:53:00</td>\n",
       "      <td>WARRANTS</td>\n",
       "      <td>WARRANT ARREST</td>\n",
       "      <td>Wednesday</td>\n",
       "      <td>NORTHERN</td>\n",
       "      <td>ARREST, BOOKED</td>\n",
       "      <td>OAK ST / LAGUNA ST</td>\n",
       "      <td>-122.425892</td>\n",
       "      <td>37.774599</td>\n",
       "      <td>23</td>\n",
       "      <td>2015</td>\n",
       "    </tr>\n",
       "    <tr>\n",
       "      <th>1</th>\n",
       "      <td>2015-05-13 23:53:00</td>\n",
       "      <td>OTHER OFFENSES</td>\n",
       "      <td>TRAFFIC VIOLATION ARREST</td>\n",
       "      <td>Wednesday</td>\n",
       "      <td>NORTHERN</td>\n",
       "      <td>ARREST, BOOKED</td>\n",
       "      <td>OAK ST / LAGUNA ST</td>\n",
       "      <td>-122.425892</td>\n",
       "      <td>37.774599</td>\n",
       "      <td>23</td>\n",
       "      <td>2015</td>\n",
       "    </tr>\n",
       "    <tr>\n",
       "      <th>2</th>\n",
       "      <td>2015-05-13 23:33:00</td>\n",
       "      <td>OTHER OFFENSES</td>\n",
       "      <td>TRAFFIC VIOLATION ARREST</td>\n",
       "      <td>Wednesday</td>\n",
       "      <td>NORTHERN</td>\n",
       "      <td>ARREST, BOOKED</td>\n",
       "      <td>VANNESS AV / GREENWICH ST</td>\n",
       "      <td>-122.424363</td>\n",
       "      <td>37.800414</td>\n",
       "      <td>23</td>\n",
       "      <td>2015</td>\n",
       "    </tr>\n",
       "    <tr>\n",
       "      <th>3</th>\n",
       "      <td>2015-05-13 23:30:00</td>\n",
       "      <td>LARCENY/THEFT</td>\n",
       "      <td>GRAND THEFT FROM LOCKED AUTO</td>\n",
       "      <td>Wednesday</td>\n",
       "      <td>NORTHERN</td>\n",
       "      <td>NONE</td>\n",
       "      <td>1500 Block of LOMBARD ST</td>\n",
       "      <td>-122.426995</td>\n",
       "      <td>37.800873</td>\n",
       "      <td>23</td>\n",
       "      <td>2015</td>\n",
       "    </tr>\n",
       "    <tr>\n",
       "      <th>4</th>\n",
       "      <td>2015-05-13 23:30:00</td>\n",
       "      <td>LARCENY/THEFT</td>\n",
       "      <td>GRAND THEFT FROM LOCKED AUTO</td>\n",
       "      <td>Wednesday</td>\n",
       "      <td>PARK</td>\n",
       "      <td>NONE</td>\n",
       "      <td>100 Block of BRODERICK ST</td>\n",
       "      <td>-122.438738</td>\n",
       "      <td>37.771541</td>\n",
       "      <td>23</td>\n",
       "      <td>2015</td>\n",
       "    </tr>\n",
       "  </tbody>\n",
       "</table>\n",
       "</div>"
      ],
      "text/plain": [
       "                Dates        Category                      Descript  \\\n",
       "0 2015-05-13 23:53:00        WARRANTS                WARRANT ARREST   \n",
       "1 2015-05-13 23:53:00  OTHER OFFENSES      TRAFFIC VIOLATION ARREST   \n",
       "2 2015-05-13 23:33:00  OTHER OFFENSES      TRAFFIC VIOLATION ARREST   \n",
       "3 2015-05-13 23:30:00   LARCENY/THEFT  GRAND THEFT FROM LOCKED AUTO   \n",
       "4 2015-05-13 23:30:00   LARCENY/THEFT  GRAND THEFT FROM LOCKED AUTO   \n",
       "\n",
       "   DayOfWeek PdDistrict      Resolution                    Address  \\\n",
       "0  Wednesday   NORTHERN  ARREST, BOOKED         OAK ST / LAGUNA ST   \n",
       "1  Wednesday   NORTHERN  ARREST, BOOKED         OAK ST / LAGUNA ST   \n",
       "2  Wednesday   NORTHERN  ARREST, BOOKED  VANNESS AV / GREENWICH ST   \n",
       "3  Wednesday   NORTHERN            NONE   1500 Block of LOMBARD ST   \n",
       "4  Wednesday       PARK            NONE  100 Block of BRODERICK ST   \n",
       "\n",
       "            X          Y  hour  year  \n",
       "0 -122.425892  37.774599    23  2015  \n",
       "1 -122.425892  37.774599    23  2015  \n",
       "2 -122.424363  37.800414    23  2015  \n",
       "3 -122.426995  37.800873    23  2015  \n",
       "4 -122.438738  37.771541    23  2015  "
      ]
     },
     "execution_count": 3,
     "metadata": {},
     "output_type": "execute_result"
    }
   ],
   "source": [
    "train.head()"
   ]
  },
  {
   "cell_type": "code",
   "execution_count": 4,
   "metadata": {
    "collapsed": false
   },
   "outputs": [],
   "source": [
    "cate_variables = ['DayOfWeek','PdDistrict','hour','year']\n",
    "dfTrain = pd.DataFrame()\n",
    "\n",
    "for var_name in cate_variables: \n",
    "    \n",
    "    df = pd.get_dummies(train[var_name], prefix=var_name) \n",
    "    train = train.drop([var_name], axis = 1)\n",
    "    \n",
    "    if dfTrain.empty:\n",
    "        dfTrain = df\n",
    "    else:\n",
    "        dfTrain = dfTrain.join(df)\n",
    "        \n",
    "crimeCat = preprocessing.LabelEncoder()\n",
    "crime = crimeCat.fit_transform(train.Category)   \n",
    "dfTrain['crime']=crime"
   ]
  },
  {
   "cell_type": "code",
   "execution_count": 5,
   "metadata": {
    "collapsed": false
   },
   "outputs": [
    {
     "data": {
      "text/html": [
       "<div>\n",
       "<table border=\"1\" class=\"dataframe\">\n",
       "  <thead>\n",
       "    <tr style=\"text-align: right;\">\n",
       "      <th></th>\n",
       "      <th>DayOfWeek_Friday</th>\n",
       "      <th>DayOfWeek_Monday</th>\n",
       "      <th>DayOfWeek_Saturday</th>\n",
       "      <th>DayOfWeek_Sunday</th>\n",
       "      <th>DayOfWeek_Thursday</th>\n",
       "      <th>DayOfWeek_Tuesday</th>\n",
       "      <th>DayOfWeek_Wednesday</th>\n",
       "      <th>PdDistrict_BAYVIEW</th>\n",
       "      <th>PdDistrict_CENTRAL</th>\n",
       "      <th>PdDistrict_INGLESIDE</th>\n",
       "      <th>...</th>\n",
       "      <th>year_2007</th>\n",
       "      <th>year_2008</th>\n",
       "      <th>year_2009</th>\n",
       "      <th>year_2010</th>\n",
       "      <th>year_2011</th>\n",
       "      <th>year_2012</th>\n",
       "      <th>year_2013</th>\n",
       "      <th>year_2014</th>\n",
       "      <th>year_2015</th>\n",
       "      <th>crime</th>\n",
       "    </tr>\n",
       "  </thead>\n",
       "  <tbody>\n",
       "    <tr>\n",
       "      <th>0</th>\n",
       "      <td>0.0</td>\n",
       "      <td>0.0</td>\n",
       "      <td>0.0</td>\n",
       "      <td>0.0</td>\n",
       "      <td>0.0</td>\n",
       "      <td>0.0</td>\n",
       "      <td>1.0</td>\n",
       "      <td>0.0</td>\n",
       "      <td>0.0</td>\n",
       "      <td>0.0</td>\n",
       "      <td>...</td>\n",
       "      <td>0.0</td>\n",
       "      <td>0.0</td>\n",
       "      <td>0.0</td>\n",
       "      <td>0.0</td>\n",
       "      <td>0.0</td>\n",
       "      <td>0.0</td>\n",
       "      <td>0.0</td>\n",
       "      <td>0.0</td>\n",
       "      <td>1.0</td>\n",
       "      <td>37</td>\n",
       "    </tr>\n",
       "    <tr>\n",
       "      <th>1</th>\n",
       "      <td>0.0</td>\n",
       "      <td>0.0</td>\n",
       "      <td>0.0</td>\n",
       "      <td>0.0</td>\n",
       "      <td>0.0</td>\n",
       "      <td>0.0</td>\n",
       "      <td>1.0</td>\n",
       "      <td>0.0</td>\n",
       "      <td>0.0</td>\n",
       "      <td>0.0</td>\n",
       "      <td>...</td>\n",
       "      <td>0.0</td>\n",
       "      <td>0.0</td>\n",
       "      <td>0.0</td>\n",
       "      <td>0.0</td>\n",
       "      <td>0.0</td>\n",
       "      <td>0.0</td>\n",
       "      <td>0.0</td>\n",
       "      <td>0.0</td>\n",
       "      <td>1.0</td>\n",
       "      <td>21</td>\n",
       "    </tr>\n",
       "    <tr>\n",
       "      <th>2</th>\n",
       "      <td>0.0</td>\n",
       "      <td>0.0</td>\n",
       "      <td>0.0</td>\n",
       "      <td>0.0</td>\n",
       "      <td>0.0</td>\n",
       "      <td>0.0</td>\n",
       "      <td>1.0</td>\n",
       "      <td>0.0</td>\n",
       "      <td>0.0</td>\n",
       "      <td>0.0</td>\n",
       "      <td>...</td>\n",
       "      <td>0.0</td>\n",
       "      <td>0.0</td>\n",
       "      <td>0.0</td>\n",
       "      <td>0.0</td>\n",
       "      <td>0.0</td>\n",
       "      <td>0.0</td>\n",
       "      <td>0.0</td>\n",
       "      <td>0.0</td>\n",
       "      <td>1.0</td>\n",
       "      <td>21</td>\n",
       "    </tr>\n",
       "    <tr>\n",
       "      <th>3</th>\n",
       "      <td>0.0</td>\n",
       "      <td>0.0</td>\n",
       "      <td>0.0</td>\n",
       "      <td>0.0</td>\n",
       "      <td>0.0</td>\n",
       "      <td>0.0</td>\n",
       "      <td>1.0</td>\n",
       "      <td>0.0</td>\n",
       "      <td>0.0</td>\n",
       "      <td>0.0</td>\n",
       "      <td>...</td>\n",
       "      <td>0.0</td>\n",
       "      <td>0.0</td>\n",
       "      <td>0.0</td>\n",
       "      <td>0.0</td>\n",
       "      <td>0.0</td>\n",
       "      <td>0.0</td>\n",
       "      <td>0.0</td>\n",
       "      <td>0.0</td>\n",
       "      <td>1.0</td>\n",
       "      <td>16</td>\n",
       "    </tr>\n",
       "    <tr>\n",
       "      <th>4</th>\n",
       "      <td>0.0</td>\n",
       "      <td>0.0</td>\n",
       "      <td>0.0</td>\n",
       "      <td>0.0</td>\n",
       "      <td>0.0</td>\n",
       "      <td>0.0</td>\n",
       "      <td>1.0</td>\n",
       "      <td>0.0</td>\n",
       "      <td>0.0</td>\n",
       "      <td>0.0</td>\n",
       "      <td>...</td>\n",
       "      <td>0.0</td>\n",
       "      <td>0.0</td>\n",
       "      <td>0.0</td>\n",
       "      <td>0.0</td>\n",
       "      <td>0.0</td>\n",
       "      <td>0.0</td>\n",
       "      <td>0.0</td>\n",
       "      <td>0.0</td>\n",
       "      <td>1.0</td>\n",
       "      <td>16</td>\n",
       "    </tr>\n",
       "  </tbody>\n",
       "</table>\n",
       "<p>5 rows × 55 columns</p>\n",
       "</div>"
      ],
      "text/plain": [
       "   DayOfWeek_Friday  DayOfWeek_Monday  DayOfWeek_Saturday  DayOfWeek_Sunday  \\\n",
       "0               0.0               0.0                 0.0               0.0   \n",
       "1               0.0               0.0                 0.0               0.0   \n",
       "2               0.0               0.0                 0.0               0.0   \n",
       "3               0.0               0.0                 0.0               0.0   \n",
       "4               0.0               0.0                 0.0               0.0   \n",
       "\n",
       "   DayOfWeek_Thursday  DayOfWeek_Tuesday  DayOfWeek_Wednesday  \\\n",
       "0                 0.0                0.0                  1.0   \n",
       "1                 0.0                0.0                  1.0   \n",
       "2                 0.0                0.0                  1.0   \n",
       "3                 0.0                0.0                  1.0   \n",
       "4                 0.0                0.0                  1.0   \n",
       "\n",
       "   PdDistrict_BAYVIEW  PdDistrict_CENTRAL  PdDistrict_INGLESIDE  ...    \\\n",
       "0                 0.0                 0.0                   0.0  ...     \n",
       "1                 0.0                 0.0                   0.0  ...     \n",
       "2                 0.0                 0.0                   0.0  ...     \n",
       "3                 0.0                 0.0                   0.0  ...     \n",
       "4                 0.0                 0.0                   0.0  ...     \n",
       "\n",
       "   year_2007  year_2008  year_2009  year_2010  year_2011  year_2012  \\\n",
       "0        0.0        0.0        0.0        0.0        0.0        0.0   \n",
       "1        0.0        0.0        0.0        0.0        0.0        0.0   \n",
       "2        0.0        0.0        0.0        0.0        0.0        0.0   \n",
       "3        0.0        0.0        0.0        0.0        0.0        0.0   \n",
       "4        0.0        0.0        0.0        0.0        0.0        0.0   \n",
       "\n",
       "   year_2013  year_2014  year_2015  crime  \n",
       "0        0.0        0.0        1.0     37  \n",
       "1        0.0        0.0        1.0     21  \n",
       "2        0.0        0.0        1.0     21  \n",
       "3        0.0        0.0        1.0     16  \n",
       "4        0.0        0.0        1.0     16  \n",
       "\n",
       "[5 rows x 55 columns]"
      ]
     },
     "execution_count": 5,
     "metadata": {},
     "output_type": "execute_result"
    }
   ],
   "source": [
    "dfTrain.head()"
   ]
  },
  {
   "cell_type": "markdown",
   "metadata": {},
   "source": [
    "## Dose cross_validation provides accurate results on this data set?\n",
    "\n",
    "In the following I’ve used “BernoulliNB” model, initially with “cross_validation” and on the full test data set and no splitting. Initially, as I was running the cross_validation code several time, it became obvious that each time I run this code I get a different graph, but very similar trend of log_loss values. At the same time, I was getting get a very reproducible log_loss values when I did not use cross_validation or any splitting method. The best part was the resulted cvs file which was tested in Kaggle, is providing a very similar log_loss score as the prediction on test data set. [Prediction section](#prediction)\n"
   ]
  },
  {
   "cell_type": "code",
   "execution_count": 6,
   "metadata": {
    "collapsed": false
   },
   "outputs": [
    {
     "name": "stdout",
     "output_type": "stream",
     "text": [
      "alpha:  1  LogLoss:  -5.64407646331\n",
      "alpha:  21  LogLoss:  -4.24563696398\n",
      "alpha:  41  LogLoss:  -3.95630036501\n",
      "alpha:  61  LogLoss:  -3.7899627983\n",
      "alpha:  81  LogLoss:  -3.67436296552\n",
      "alpha:  101  LogLoss:  -3.58719610643\n",
      "alpha:  121  LogLoss:  -3.51843037681\n",
      "alpha:  141  LogLoss:  -3.4625783455\n",
      "alpha:  161  LogLoss:  -3.41628021477\n",
      "alpha:  181  LogLoss:  -3.37732493803\n",
      "alpha:  201  LogLoss:  -3.3441809808\n",
      "alpha:  221  LogLoss:  -3.31574455566\n",
      "alpha:  241  LogLoss:  -3.29119420997\n",
      "alpha:  261  LogLoss:  -3.26990193288\n",
      "alpha:  281  LogLoss:  -3.25137649002\n",
      "alpha:  301  LogLoss:  -3.2352260323\n",
      "alpha:  321  LogLoss:  -3.22113268484\n",
      "alpha:  341  LogLoss:  -3.20883482273\n",
      "alpha:  361  LogLoss:  -3.19811441515\n",
      "alpha:  381  LogLoss:  -3.18878779369\n",
      "alpha:  401  LogLoss:  -3.18069878533\n",
      "alpha:  421  LogLoss:  -3.17371351241\n",
      "alpha:  441  LogLoss:  -3.16771639019\n",
      "alpha:  461  LogLoss:  -3.16260700026\n",
      "alpha:  481  LogLoss:  -3.15829761534\n",
      "alpha:  501  LogLoss:  -3.15471121574\n",
      "alpha:  521  LogLoss:  -3.15177988272\n",
      "alpha:  541  LogLoss:  -3.149443484\n",
      "alpha:  561  LogLoss:  -3.14764858898\n",
      "alpha:  581  LogLoss:  -3.14634756615\n"
     ]
    },
    {
     "data": {
      "text/plain": [
       "[<matplotlib.lines.Line2D at 0x7fd53db3b6d8>]"
      ]
     },
     "execution_count": 6,
     "metadata": {},
     "output_type": "execute_result"
    },
    {
     "data": {
      "image/png": "[encoded data removed]",
      "text/plain": [
       "<matplotlib.figure.Figure at 0x7fd523b2b710>"
      ]
     },
     "metadata": {},
     "output_type": "display_data"
    }
   ],
   "source": [
    "LLscores = []\n",
    "for a in range(1, 600, 20):\n",
    "        \n",
    "    model = BernoulliNB(alpha = a)\n",
    "    LogLoss = cross_validation.cross_val_score(model, \n",
    "                                 dfTrain.drop(['crime'], axis = 1),\n",
    "                                 dfTrain['crime'],\n",
    "                                 scoring='log_loss')\n",
    "   \n",
    "    \n",
    "    print( \"alpha: \", a,  \" LogLoss: \" , np.mean(LogLoss))\n",
    "    LLscores.append(np.mean(LogLoss))\n",
    "df = pd.DataFrame({'Alpha': range(1, 600, 20), 'LogLoss': LLscores})\n",
    "plt.plot(df['Alpha'],df['LogLoss'])"
   ]
  },
  {
   "cell_type": "code",
   "execution_count": 6,
   "metadata": {
    "collapsed": false
   },
   "outputs": [
    {
     "name": "stdout",
     "output_type": "stream",
     "text": [
      "alpha:  10 LogLoss:  2.56178921821\n",
      "alpha:  30 LogLoss:  2.56416136694\n",
      "alpha:  50 LogLoss:  2.56757028044\n",
      "alpha:  70 LogLoss:  2.57149074402\n",
      "alpha:  90 LogLoss:  2.57574050207\n",
      "alpha:  110 LogLoss:  2.58025139594\n",
      "alpha:  130 LogLoss:  2.58498984038\n",
      "alpha:  150 LogLoss:  2.58993113187\n",
      "alpha:  170 LogLoss:  2.59505339649\n",
      "alpha:  190 LogLoss:  2.60033636974\n",
      "alpha:  210 LogLoss:  2.60576151391\n",
      "alpha:  230 LogLoss:  2.61131212717\n",
      "alpha:  250 LogLoss:  2.616973337\n",
      "alpha:  270 LogLoss:  2.6227319902\n",
      "alpha:  290 LogLoss:  2.62857648725\n",
      "alpha:  310 LogLoss:  2.63449658034\n",
      "alpha:  330 LogLoss:  2.64048322043\n",
      "alpha:  350 LogLoss:  2.64652842919\n",
      "alpha:  370 LogLoss:  2.65262508963\n",
      "alpha:  390 LogLoss:  2.65876684306\n",
      "alpha:  410 LogLoss:  2.66494799189\n",
      "alpha:  430 LogLoss:  2.67116341263\n",
      "alpha:  450 LogLoss:  2.67740848304\n",
      "alpha:  470 LogLoss:  2.68367902087\n",
      "alpha:  490 LogLoss:  2.68997123218\n",
      "alpha:  510 LogLoss:  2.69628166766\n",
      "alpha:  530 LogLoss:  2.70260717474\n",
      "alpha:  550 LogLoss:  2.70894488103\n",
      "alpha:  570 LogLoss:  2.71529218609\n",
      "alpha:  590 LogLoss:  2.72164669449\n"
     ]
    },
    {
     "data": {
      "text/plain": [
       "[<matplotlib.lines.Line2D at 0x7f2854f87ba8>]"
      ]
     },
     "execution_count": 6,
     "metadata": {},
     "output_type": "execute_result"
    },
    {
     "data": {
      "image/png": "[encoded data removed]",
      "text/plain": [
       "<matplotlib.figure.Figure at 0x7f2856909a58>"
      ]
     },
     "metadata": {},
     "output_type": "display_data"
    }
   ],
   "source": [
    "LLscores = []\n",
    "for a in range (10, 600, 20):\n",
    "    \n",
    "    model = BernoulliNB(alpha = a)\n",
    "    \n",
    "    model.fit(dfTrain.drop(['crime'], axis = 1), dfTrain['crime'])\n",
    "    predicted = np.array(model.predict_proba(dfTrain.drop(['crime'], axis = 1)))\n",
    "    score = log_loss(dfTrain['crime'], predicted) \n",
    "    print (\"alpha: \", a, \"LogLoss: \", score)\n",
    "    LLscores.append(score)\n",
    "df  = pd.DataFrame({'alpha': range(10, 600, 20), 'LogLoss': LLscores})\n",
    "plt.plot(df['alpha'],df['LogLoss'])"
   ]
  },
  {
   "cell_type": "code",
   "execution_count": 7,
   "metadata": {
    "collapsed": false
   },
   "outputs": [
    {
     "name": "stdout",
     "output_type": "stream",
     "text": [
      "n_estimators:  10 LogLoss:  2.33096392743\n",
      "n_estimators:  30 LogLoss:  2.32216682011\n",
      "n_estimators:  50 LogLoss:  2.32023291334\n",
      "n_estimators:  70 LogLoss:  2.31930937116\n",
      "n_estimators:  90 LogLoss:  2.31949074067\n",
      "n_estimators:  110 LogLoss:  2.31893730624\n",
      "n_estimators:  130 LogLoss:  2.31853359841\n",
      "n_estimators:  150 LogLoss:  2.3185733328\n",
      "n_estimators:  170 LogLoss:  2.31838013122\n",
      "n_estimators:  190 LogLoss:  2.31836427958\n",
      "n_estimators:  210 LogLoss:  2.31826246239\n",
      "n_estimators:  230 LogLoss:  2.31801277005\n",
      "n_estimators:  250 LogLoss:  2.31826500556\n",
      "n_estimators:  270 LogLoss:  2.31822579801\n",
      "n_estimators:  290 LogLoss:  2.31828598505\n",
      "n_estimators:  310 LogLoss:  2.31820891199\n",
      "n_estimators:  330 LogLoss:  2.31795980205\n",
      "n_estimators:  350 LogLoss:  2.31818018488\n"
     ]
    },
    {
     "data": {
      "text/plain": [
       "[<matplotlib.lines.Line2D at 0x7f8f896ddcc0>]"
      ]
     },
     "execution_count": 7,
     "metadata": {},
     "output_type": "execute_result"
    },
    {
     "data": {
      "image/png": "[encoded data removed]",
      "text/plain": [
       "<matplotlib.figure.Figure at 0x7f8f8a3d20f0>"
      ]
     },
     "metadata": {},
     "output_type": "display_data"
    }
   ],
   "source": [
    "LLscores = []\n",
    "for a in range (10, 370, 20):\n",
    "    \n",
    "    model = RandomForestClassifier(n_estimators = a , \n",
    "                                   min_samples_split = 100, \n",
    "                                   criterion = 'entropy', \n",
    "                                   n_jobs = -1)\n",
    "    \n",
    "    model.fit(dfTrain.drop(['crime'], axis = 1), dfTrain['crime'])\n",
    "    predicted = np.array(model.predict_proba(dfTrain.drop(['crime'], axis = 1)))\n",
    "    score = log_loss(dfTrain['crime'], predicted) \n",
    "    print (\"n_estimators: \", a, \"LogLoss: \", score)\n",
    "    LLscores.append(score)\n",
    "df  = pd.DataFrame({'n_estimators': range(10, 370, 20), 'LogLoss': LLscores})\n",
    "df= df.set_index(['LogLoss'])\n",
    "plt.plot(df)"
   ]
  },
  {
   "cell_type": "code",
   "execution_count": 8,
   "metadata": {
    "collapsed": false,
    "scrolled": true
   },
   "outputs": [
    {
     "name": "stdout",
     "output_type": "stream",
     "text": [
      "n_estimators:  10 LogLoss:  2.23767781667\n",
      "n_estimators:  30 LogLoss:  2.24842879976\n",
      "n_estimators:  50 LogLoss:  2.26659951997\n",
      "n_estimators:  70 LogLoss:  2.28775405794\n",
      "n_estimators:  90 LogLoss:  2.30867440123\n",
      "n_estimators:  110 LogLoss:  2.32785137079\n",
      "n_estimators:  130 LogLoss:  2.34467684505\n",
      "n_estimators:  150 LogLoss:  2.36003506012\n",
      "n_estimators:  170 LogLoss:  2.37359038373\n",
      "n_estimators:  190 LogLoss:  2.38600024256\n",
      "n_estimators:  210 LogLoss:  2.39615242828\n",
      "n_estimators:  230 LogLoss:  2.40585031121\n",
      "n_estimators:  250 LogLoss:  2.41329723543\n",
      "n_estimators:  270 LogLoss:  2.42065977964\n",
      "n_estimators:  290 LogLoss:  2.42677415358\n",
      "n_estimators:  310 LogLoss:  2.43262857172\n",
      "n_estimators:  330 LogLoss:  2.43750968283\n",
      "n_estimators:  350 LogLoss:  2.44223612183\n",
      "n_estimators:  370 LogLoss:  2.44611173445\n",
      "n_estimators:  390 LogLoss:  2.45002018606\n",
      "n_estimators:  410 LogLoss:  2.45303332055\n",
      "n_estimators:  430 LogLoss:  2.45638506895\n",
      "n_estimators:  450 LogLoss:  2.45930780274\n",
      "n_estimators:  470 LogLoss:  2.46226694662\n",
      "n_estimators:  490 LogLoss:  2.46421678093\n",
      "n_estimators:  510 LogLoss:  2.46661477845\n",
      "n_estimators:  530 LogLoss:  2.46863125649\n",
      "n_estimators:  550 LogLoss:  2.47047783258\n",
      "n_estimators:  570 LogLoss:  2.47252732236\n",
      "n_estimators:  590 LogLoss:  2.47419110695\n",
      "n_estimators:  610 LogLoss:  2.47580049338\n",
      "n_estimators:  630 LogLoss:  2.47740771187\n",
      "n_estimators:  650 LogLoss:  2.47878995489\n",
      "n_estimators:  670 LogLoss:  2.47997652872\n",
      "n_estimators:  690 LogLoss:  2.481558485\n",
      "n_estimators:  710 LogLoss:  2.4826044047\n",
      "n_estimators:  730 LogLoss:  2.48386488616\n",
      "n_estimators:  750 LogLoss:  2.48494064334\n",
      "n_estimators:  770 LogLoss:  2.48627222622\n",
      "n_estimators:  790 LogLoss:  2.48729169451\n",
      "n_estimators:  810 LogLoss:  2.48834722031\n",
      "n_estimators:  830 LogLoss:  2.48932442428\n",
      "n_estimators:  850 LogLoss:  2.49049984568\n",
      "n_estimators:  870 LogLoss:  2.49139167491\n",
      "n_estimators:  890 LogLoss:  2.49201951784\n",
      "n_estimators:  910 LogLoss:  2.49313605996\n",
      "n_estimators:  930 LogLoss:  2.49409936636\n",
      "n_estimators:  950 LogLoss:  2.49482994962\n",
      "n_estimators:  970 LogLoss:  2.49561450129\n",
      "n_estimators:  990 LogLoss:  2.4962527388\n"
     ]
    },
    {
     "data": {
      "text/plain": [
       "[<matplotlib.lines.Line2D at 0x7f8f8a5eea20>]"
      ]
     },
     "execution_count": 8,
     "metadata": {},
     "output_type": "execute_result"
    },
    {
     "data": {
      "image/png": "[encoded data removed]",
      "text/plain": [
       "<matplotlib.figure.Figure at 0x7f8f8a3d26d8>"
      ]
     },
     "metadata": {},
     "output_type": "display_data"
    }
   ],
   "source": [
    "LLscores = []\n",
    "for a in range (10, 1000, 20):\n",
    "    \n",
    "    model = RandomForestClassifier(n_estimators = 210 , \n",
    "                                   min_samples_split = a, \n",
    "                                   criterion = 'entropy', \n",
    "                                   n_jobs = -1)\n",
    "    \n",
    "    model.fit(dfTrain.drop(['crime'], axis = 1), dfTrain['crime'])\n",
    "    predicted = np.array(model.predict_proba(dfTrain.drop(['crime'], axis = 1)))\n",
    "    score = log_loss(dfTrain['crime'], predicted) \n",
    "    print (\"n_estimators: \", a, \"LogLoss: \", score)\n",
    "    LLscores.append(score)\n",
    "df  = pd.DataFrame({'n_estimators': range(10, 1000, 20), 'LogLoss': LLscores})\n",
    "df= df.set_index(['LogLoss'])\n",
    "plt.plot(df)"
   ]
  },
  {
   "cell_type": "code",
   "execution_count": 9,
   "metadata": {
    "collapsed": false,
    "scrolled": true
   },
   "outputs": [
    {
     "name": "stdout",
     "output_type": "stream",
     "text": [
      "C:  0.001 LogLoss:  2.63151964797\n",
      "C:  0.051 LogLoss:  2.56022907678\n",
      "C:  0.101 LogLoss:  2.55947486723\n",
      "C:  0.151 LogLoss:  2.55923339199\n",
      "C:  0.201 LogLoss:  2.55911633096\n",
      "C:  0.251 LogLoss:  2.55904764747\n",
      "C:  0.301 LogLoss:  2.55900253372\n",
      "C:  0.351 LogLoss:  2.55897080178\n",
      "C:  0.401 LogLoss:  2.55894728221\n",
      "C:  0.451 LogLoss:  2.55892913562\n",
      "C:  0.501 LogLoss:  2.55891482247\n",
      "C:  0.551 LogLoss:  2.55890307189\n",
      "C:  0.601 LogLoss:  2.5588933256\n",
      "C:  0.651 LogLoss:  2.55888506236\n",
      "C:  0.701 LogLoss:  2.55887800224\n",
      "C:  0.751 LogLoss:  2.55887189067\n",
      "C:  0.801 LogLoss:  2.558866546\n",
      "C:  0.851 LogLoss:  2.55886181445\n",
      "C:  0.901 LogLoss:  2.55885759501\n",
      "C:  0.951 LogLoss:  2.55885381024\n",
      "C:  1.001 LogLoss:  2.55885039626\n",
      "C:  1.051 LogLoss:  2.55884729715\n",
      "C:  1.101 LogLoss:  2.55884449521\n",
      "C:  1.151 LogLoss:  2.55884191023\n",
      "C:  1.201 LogLoss:  2.55883953678\n",
      "C:  1.251 LogLoss:  2.5588373334\n",
      "C:  1.301 LogLoss:  2.55883529851\n",
      "C:  1.351 LogLoss:  2.55883341248\n",
      "C:  1.401 LogLoss:  2.55883165117\n",
      "C:  1.451 LogLoss:  2.55883000481\n",
      "C:  1.501 LogLoss:  2.55882846184\n",
      "C:  1.551 LogLoss:  2.5588270133\n",
      "C:  1.601 LogLoss:  2.55882564776\n",
      "C:  1.651 LogLoss:  2.55882436057\n",
      "C:  1.701 LogLoss:  2.55882314378\n",
      "C:  1.751 LogLoss:  2.55882199199\n",
      "C:  1.801 LogLoss:  2.55882090202\n",
      "C:  1.851 LogLoss:  2.55881986459\n",
      "C:  1.901 LogLoss:  2.55881887899\n",
      "C:  1.951 LogLoss:  2.55881794177\n",
      "C:  2.001 LogLoss:  2.55881704339\n",
      "C:  2.051 LogLoss:  2.55881614933\n",
      "C:  2.101 LogLoss:  2.55881536962\n",
      "C:  2.151 LogLoss:  2.55881458612\n",
      "C:  2.201 LogLoss:  2.55881383597\n",
      "C:  2.251 LogLoss:  2.55881311623\n",
      "C:  2.301 LogLoss:  2.55881239167\n",
      "C:  2.351 LogLoss:  2.55881176109\n",
      "C:  2.401 LogLoss:  2.55881112118\n",
      "C:  2.451 LogLoss:  2.55881050749\n",
      "C:  2.501 LogLoss:  2.55880988545\n",
      "C:  2.551 LogLoss:  2.55880931552\n",
      "C:  2.601 LogLoss:  2.558808765\n",
      "C:  2.651 LogLoss:  2.5588082336\n",
      "C:  2.701 LogLoss:  2.55880771898\n",
      "C:  2.751 LogLoss:  2.5588072222\n",
      "C:  2.801 LogLoss:  2.55880674326\n",
      "C:  2.851 LogLoss:  2.55880627737\n",
      "C:  2.901 LogLoss:  2.55880582943\n",
      "C:  2.951 LogLoss:  2.55880539338\n",
      "C:  3.001 LogLoss:  2.55880496992\n",
      "C:  3.051 LogLoss:  2.5588045594\n",
      "C:  3.101 LogLoss:  2.55880416006\n",
      "C:  3.151 LogLoss:  2.5588037733\n",
      "C:  3.201 LogLoss:  2.55880339698\n",
      "C:  3.251 LogLoss:  2.55880303183\n",
      "C:  3.301 LogLoss:  2.55880267629\n",
      "C:  3.351 LogLoss:  2.55880233015\n",
      "C:  3.401 LogLoss:  2.55880199372\n",
      "C:  3.451 LogLoss:  2.55880166604\n",
      "C:  3.501 LogLoss:  2.558801347\n",
      "C:  3.551 LogLoss:  2.55880103577\n",
      "C:  3.601 LogLoss:  2.55880073553\n",
      "C:  3.651 LogLoss:  2.55880043609\n",
      "C:  3.701 LogLoss:  2.55880014675\n",
      "C:  3.751 LogLoss:  2.55879986412\n",
      "C:  3.801 LogLoss:  2.55879959061\n",
      "C:  3.851 LogLoss:  2.55879932227\n",
      "C:  3.901 LogLoss:  2.55879906011\n",
      "C:  3.951 LogLoss:  2.55879880436\n",
      "C:  4.001 LogLoss:  2.55879855347\n",
      "C:  4.051 LogLoss:  2.5587983088\n",
      "C:  4.101 LogLoss:  2.55879806971\n",
      "C:  4.151 LogLoss:  2.55879783572\n",
      "C:  4.201 LogLoss:  2.55879760426\n",
      "C:  4.251 LogLoss:  2.55879738139\n",
      "C:  4.301 LogLoss:  2.55879716143\n",
      "C:  4.351 LogLoss:  2.55879694594\n",
      "C:  4.401 LogLoss:  2.55879673567\n",
      "C:  4.451 LogLoss:  2.55879653473\n",
      "C:  4.501 LogLoss:  2.55879633239\n",
      "C:  4.551 LogLoss:  2.55879612961\n",
      "C:  4.601 LogLoss:  2.55879593503\n",
      "C:  4.651 LogLoss:  2.55879574424\n",
      "C:  4.701 LogLoss:  2.55879545687\n",
      "C:  4.751 LogLoss:  2.55879527635\n",
      "C:  4.801 LogLoss:  2.5587950887\n",
      "C:  4.851 LogLoss:  2.55879490995\n",
      "C:  4.901 LogLoss:  2.55879473266\n",
      "C:  4.951 LogLoss:  2.55879456014\n"
     ]
    },
    {
     "data": {
      "text/plain": [
       "[<matplotlib.lines.Line2D at 0x7f8f88f024e0>]"
      ]
     },
     "execution_count": 9,
     "metadata": {},
     "output_type": "execute_result"
    },
    {
     "data": {
      "image/png": "[encoded data removed]",
      "text/plain": [
       "<matplotlib.figure.Figure at 0x7f8f8a03b438>"
      ]
     },
     "metadata": {},
     "output_type": "display_data"
    }
   ],
   "source": [
    "list= np.arange(0.001,5,0.05)\n",
    "LLscores = []\n",
    "for a in list:\n",
    "    \n",
    "    model = LogisticRegression(C=a,n_jobs=-1)\n",
    "    model.fit(dfTrain.drop(['crime'], axis = 1), dfTrain['crime'])\n",
    "    predicted = np.array(model.predict_proba(dfTrain.drop(['crime'], axis = 1)))\n",
    "    score = log_loss(dfTrain['crime'], predicted) \n",
    "    print (\"C: \", a, \"LogLoss: \", score)\n",
    "    LLscores.append(score)\n",
    "df  = pd.DataFrame({'C': list, 'LogLoss': LLscores})\n",
    "plt.plot(df['C'],df['LogLoss'])"
   ]
  },
  {
   "cell_type": "markdown",
   "metadata": {
    "collapsed": true
   },
   "source": [
    "\n",
    "# Making a prediction on the test data set\n",
    "\n",
    "Initially we need to convert the test dataset to dummy variables similar to what we did to make “dfTrain”.\n"
   ]
  },
  {
   "cell_type": "code",
   "execution_count": 9,
   "metadata": {
    "collapsed": false
   },
   "outputs": [],
   "source": [
    "test=pd.read_csv('../../Dataset/test-2.csv', parse_dates = ['Dates'])\n",
    "test['hour'] = test.Dates.dt.hour\n",
    "test['year'] = test.Dates.dt.year\n",
    "\n",
    "cate_variables = ['DayOfWeek','PdDistrict','hour','year']\n",
    "dfTest = pd.DataFrame()\n",
    "\n",
    "for var_name in cate_variables: \n",
    "    \n",
    "    df = pd.get_dummies(test[var_name], prefix=var_name) \n",
    "    test = test.drop([var_name], axis = 1)\n",
    "    \n",
    "    if dfTest.empty:\n",
    "        dfTest = df\n",
    "    else:\n",
    "        dfTest = dfTest.join(df)\n",
    "        "
   ]
  },
  {
   "cell_type": "markdown",
   "metadata": {},
   "source": [
    "## BernoulliNB\n",
    "<a id= 'prediction'></a>\n",
    "The selected Bernoulli model that can get log_loss of 2.595 on the test data set, gets, 2.59910 which is much more accurate than the result from “cross_validation” which is around 3.37 The reason for that lays in random splitting of the test data set which changes the order of the time series and reduces the actuary of predictive modeling. So during the following Analysis I did not use any “cross_validation” or splitting.  \n"
   ]
  },
  {
   "cell_type": "code",
   "execution_count": 12,
   "metadata": {
    "collapsed": false
   },
   "outputs": [
    {
     "data": {
      "text/plain": [
       "2.5950533964863056"
      ]
     },
     "execution_count": 12,
     "metadata": {},
     "output_type": "execute_result"
    }
   ],
   "source": [
    "model = BernoulliNB(alpha = 170)\n",
    "model.fit(dfTrain.drop(['crime'], axis = 1), dfTrain['crime'])\n",
    "predicted = np.array(model.predict_proba(dfTrain.drop(['crime'], axis = 1)))\n",
    "log_loss(dfTrain['crime'], predicted)"
   ]
  },
  {
   "cell_type": "code",
   "execution_count": null,
   "metadata": {
    "collapsed": true
   },
   "outputs": [],
   "source": [
    "predicted = model.predict_proba(dfTest)\n",
    "result=pd.DataFrame(predicted, columns =crimeCat.classes_)\n",
    "result.to_csv('../../Prediction/Bernoullie_DS1.csv', index = True, index_label = 'Id' )"
   ]
  },
  {
   "cell_type": "markdown",
   "metadata": {},
   "source": [
    "## RandomForestClassifier\n",
    "\n",
    "The following model has a log_loss value of 2.308 on the test dataset1 with the Kaggle score of 2.83893\n"
   ]
  },
  {
   "cell_type": "code",
   "execution_count": 10,
   "metadata": {
    "collapsed": false
   },
   "outputs": [
    {
     "data": {
      "text/plain": [
       "2.3081762735733782"
      ]
     },
     "execution_count": 10,
     "metadata": {},
     "output_type": "execute_result"
    }
   ],
   "source": [
    "model = RandomForestClassifier(n_estimators = 600 , \n",
    "                               min_samples_split = 90, \n",
    "                               criterion = 'entropy',\n",
    "                               n_jobs = -1)\n",
    "\n",
    "model.fit(dfTrain.drop(['crime'], axis = 1), dfTrain['crime'])\n",
    "predicted = np.array(model.predict_proba(dfTrain.drop(['crime'], axis = 1)))\n",
    "log_loss(dfTrain['crime'], predicted)"
   ]
  },
  {
   "cell_type": "markdown",
   "metadata": {},
   "source": [
    "The following model has a log_loss value of 2.308 on the test dataset1 with the Kaggle score of 2.83893"
   ]
  },
  {
   "cell_type": "code",
   "execution_count": 15,
   "metadata": {
    "collapsed": false
   },
   "outputs": [
    {
     "data": {
      "text/plain": [
       "2.3082929891980322"
      ]
     },
     "execution_count": 15,
     "metadata": {},
     "output_type": "execute_result"
    }
   ],
   "source": [
    "model = RandomForestClassifier(n_estimators = 400 , \n",
    "                               min_samples_split = 90, \n",
    "                               criterion = 'entropy',\n",
    "                               n_jobs = -1)\n",
    "\n",
    "model.fit(dfTrain.drop(['crime'], axis = 1), dfTrain['crime'])\n",
    "predicted = np.array(model.predict_proba(dfTrain.drop(['crime'], axis = 1)))\n",
    "log_loss(dfTrain['crime'], predicted)"
   ]
  },
  {
   "cell_type": "code",
   "execution_count": 16,
   "metadata": {
    "collapsed": true
   },
   "outputs": [],
   "source": [
    "predicted = model.predict_proba(dfTest)\n",
    "result=pd.DataFrame(predicted, columns =crimeCat.classes_)\n",
    "result.to_csv('../../Prediction/RandomForestClassifier_comparison_DS1.csv', index = True, index_label = 'Id' )"
   ]
  }
 ],
 "metadata": {
  "anaconda-cloud": {},
  "kernelspec": {
   "display_name": "Python [Root]",
   "language": "python",
   "name": "Python [Root]"
  },
  "language_info": {
   "codemirror_mode": {
    "name": "ipython",
    "version": 3
   },
   "file_extension": ".py",
   "mimetype": "text/x-python",
   "name": "python",
   "nbconvert_exporter": "python",
   "pygments_lexer": "ipython3",
   "version": "3.5.2"
  }
 },
 "nbformat": 4,
 "nbformat_minor": 0
}
