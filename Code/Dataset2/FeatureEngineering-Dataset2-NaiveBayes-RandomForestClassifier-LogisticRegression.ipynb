{
 "cells": [
  {
   "cell_type": "markdown",
   "metadata": {},
   "source": [
    "# FeatureEngineering dataset2, Naive Bayes classifier,RandomForestClassifier-LogisticRegression.\n",
    "\n",
    "The following notebook has focused on feature engineering based on, ”DayOfWeek”, “PdDistrict”, ”hour”, \"DayOfYear\",and “year” variables and after extracnign dummy variables it has 415 Colum. \n",
    "\n",
    "After exploring different models, this dataset dose not seams to providing an improve modeling scores.\n"
   ]
  },
  {
   "cell_type": "code",
   "execution_count": 1,
   "metadata": {
    "collapsed": false
   },
   "outputs": [
    {
     "name": "stdout",
     "output_type": "stream",
     "text": [
      "Sohrab \n",
      "last updated: 2016-08-31 \n",
      "\n",
      "CPython 3.5.2\n",
      "IPython 4.2.0\n",
      "\n",
      "numpy 1.11.1\n",
      "pandas 0.18.1\n",
      "matplotlib 1.5.1\n"
     ]
    }
   ],
   "source": [
    "%load_ext watermark\n",
    "%watermark -a 'Sohrab' -u -d -v -p numpy,pandas,matplotlib\n",
    "import pandas as pd\n",
    "from sklearn.cross_validation import train_test_split\n",
    "from sklearn.metrics import log_loss\n",
    "from sklearn.naive_bayes import BernoulliNB\n",
    "from sklearn.linear_model import LogisticRegression\n",
    "from sklearn.ensemble import RandomForestClassifier\n",
    "from sklearn.ensemble import ExtraTreesClassifier\n",
    "\n",
    "\n",
    "from sklearn.linear_model import LogisticRegression\n",
    "from sklearn.metrics import log_loss\n",
    "from sklearn.metrics import roc_curve, roc_auc_score\n",
    "from sklearn.neighbors import KNeighborsClassifier\n",
    "from sklearn import tree\n",
    "from sklearn import cross_validation,preprocessing\n",
    "\n",
    "import numpy as np\n",
    "\n",
    "import matplotlib.pyplot as plt\n",
    "%matplotlib inline"
   ]
  },
  {
   "cell_type": "code",
   "execution_count": 2,
   "metadata": {
    "collapsed": false
   },
   "outputs": [],
   "source": [
    "#Load Data with pandas, and parse the first column into datetime\n",
    "train=pd.read_csv('../../Dataset/train-2.csv', parse_dates = ['Dates'])\n",
    "train['DayOfYear'] = train['Dates'].map(lambda x: x.strftime(\"%m-%d\"))\n",
    "train['hour'] = train.Dates.dt.hour\n",
    "train['year'] = train.Dates.dt.year"
   ]
  },
  {
   "cell_type": "code",
   "execution_count": 3,
   "metadata": {
    "collapsed": false
   },
   "outputs": [
    {
     "data": {
      "text/html": [
       "<div>\n",
       "<table border=\"1\" class=\"dataframe\">\n",
       "  <thead>\n",
       "    <tr style=\"text-align: right;\">\n",
       "      <th></th>\n",
       "      <th>Dates</th>\n",
       "      <th>Category</th>\n",
       "      <th>Descript</th>\n",
       "      <th>DayOfWeek</th>\n",
       "      <th>PdDistrict</th>\n",
       "      <th>Resolution</th>\n",
       "      <th>Address</th>\n",
       "      <th>X</th>\n",
       "      <th>Y</th>\n",
       "      <th>DayOfYear</th>\n",
       "      <th>hour</th>\n",
       "      <th>year</th>\n",
       "    </tr>\n",
       "  </thead>\n",
       "  <tbody>\n",
       "    <tr>\n",
       "      <th>0</th>\n",
       "      <td>2015-05-13 23:53:00</td>\n",
       "      <td>WARRANTS</td>\n",
       "      <td>WARRANT ARREST</td>\n",
       "      <td>Wednesday</td>\n",
       "      <td>NORTHERN</td>\n",
       "      <td>ARREST, BOOKED</td>\n",
       "      <td>OAK ST / LAGUNA ST</td>\n",
       "      <td>-122.425892</td>\n",
       "      <td>37.774599</td>\n",
       "      <td>05-13</td>\n",
       "      <td>23</td>\n",
       "      <td>2015</td>\n",
       "    </tr>\n",
       "    <tr>\n",
       "      <th>1</th>\n",
       "      <td>2015-05-13 23:53:00</td>\n",
       "      <td>OTHER OFFENSES</td>\n",
       "      <td>TRAFFIC VIOLATION ARREST</td>\n",
       "      <td>Wednesday</td>\n",
       "      <td>NORTHERN</td>\n",
       "      <td>ARREST, BOOKED</td>\n",
       "      <td>OAK ST / LAGUNA ST</td>\n",
       "      <td>-122.425892</td>\n",
       "      <td>37.774599</td>\n",
       "      <td>05-13</td>\n",
       "      <td>23</td>\n",
       "      <td>2015</td>\n",
       "    </tr>\n",
       "    <tr>\n",
       "      <th>2</th>\n",
       "      <td>2015-05-13 23:33:00</td>\n",
       "      <td>OTHER OFFENSES</td>\n",
       "      <td>TRAFFIC VIOLATION ARREST</td>\n",
       "      <td>Wednesday</td>\n",
       "      <td>NORTHERN</td>\n",
       "      <td>ARREST, BOOKED</td>\n",
       "      <td>VANNESS AV / GREENWICH ST</td>\n",
       "      <td>-122.424363</td>\n",
       "      <td>37.800414</td>\n",
       "      <td>05-13</td>\n",
       "      <td>23</td>\n",
       "      <td>2015</td>\n",
       "    </tr>\n",
       "    <tr>\n",
       "      <th>3</th>\n",
       "      <td>2015-05-13 23:30:00</td>\n",
       "      <td>LARCENY/THEFT</td>\n",
       "      <td>GRAND THEFT FROM LOCKED AUTO</td>\n",
       "      <td>Wednesday</td>\n",
       "      <td>NORTHERN</td>\n",
       "      <td>NONE</td>\n",
       "      <td>1500 Block of LOMBARD ST</td>\n",
       "      <td>-122.426995</td>\n",
       "      <td>37.800873</td>\n",
       "      <td>05-13</td>\n",
       "      <td>23</td>\n",
       "      <td>2015</td>\n",
       "    </tr>\n",
       "    <tr>\n",
       "      <th>4</th>\n",
       "      <td>2015-05-13 23:30:00</td>\n",
       "      <td>LARCENY/THEFT</td>\n",
       "      <td>GRAND THEFT FROM LOCKED AUTO</td>\n",
       "      <td>Wednesday</td>\n",
       "      <td>PARK</td>\n",
       "      <td>NONE</td>\n",
       "      <td>100 Block of BRODERICK ST</td>\n",
       "      <td>-122.438738</td>\n",
       "      <td>37.771541</td>\n",
       "      <td>05-13</td>\n",
       "      <td>23</td>\n",
       "      <td>2015</td>\n",
       "    </tr>\n",
       "  </tbody>\n",
       "</table>\n",
       "</div>"
      ],
      "text/plain": [
       "                Dates        Category                      Descript  \\\n",
       "0 2015-05-13 23:53:00        WARRANTS                WARRANT ARREST   \n",
       "1 2015-05-13 23:53:00  OTHER OFFENSES      TRAFFIC VIOLATION ARREST   \n",
       "2 2015-05-13 23:33:00  OTHER OFFENSES      TRAFFIC VIOLATION ARREST   \n",
       "3 2015-05-13 23:30:00   LARCENY/THEFT  GRAND THEFT FROM LOCKED AUTO   \n",
       "4 2015-05-13 23:30:00   LARCENY/THEFT  GRAND THEFT FROM LOCKED AUTO   \n",
       "\n",
       "   DayOfWeek PdDistrict      Resolution                    Address  \\\n",
       "0  Wednesday   NORTHERN  ARREST, BOOKED         OAK ST / LAGUNA ST   \n",
       "1  Wednesday   NORTHERN  ARREST, BOOKED         OAK ST / LAGUNA ST   \n",
       "2  Wednesday   NORTHERN  ARREST, BOOKED  VANNESS AV / GREENWICH ST   \n",
       "3  Wednesday   NORTHERN            NONE   1500 Block of LOMBARD ST   \n",
       "4  Wednesday       PARK            NONE  100 Block of BRODERICK ST   \n",
       "\n",
       "            X          Y DayOfYear  hour  year  \n",
       "0 -122.425892  37.774599     05-13    23  2015  \n",
       "1 -122.425892  37.774599     05-13    23  2015  \n",
       "2 -122.424363  37.800414     05-13    23  2015  \n",
       "3 -122.426995  37.800873     05-13    23  2015  \n",
       "4 -122.438738  37.771541     05-13    23  2015  "
      ]
     },
     "execution_count": 3,
     "metadata": {},
     "output_type": "execute_result"
    }
   ],
   "source": [
    "train.head()"
   ]
  },
  {
   "cell_type": "code",
   "execution_count": 4,
   "metadata": {
    "collapsed": false
   },
   "outputs": [],
   "source": [
    "cate_variables = ['DayOfWeek','PdDistrict','hour','year','DayOfYear']\n",
    "dfTrain = pd.DataFrame()\n",
    "\n",
    "for var_name in cate_variables: \n",
    "    \n",
    "    df = pd.get_dummies(train[var_name]) \n",
    "    train = train.drop([var_name], axis = 1)\n",
    "    \n",
    "    if dfTrain.empty:\n",
    "        dfTrain = df\n",
    "    else:\n",
    "        dfTrain = dfTrain.join(df)\n",
    "        \n",
    "crimeCat = preprocessing.LabelEncoder()\n",
    "crime = crimeCat.fit_transform(train.Category)   \n",
    "dfTrain['crime']=crime"
   ]
  },
  {
   "cell_type": "code",
   "execution_count": 5,
   "metadata": {
    "collapsed": false
   },
   "outputs": [
    {
     "data": {
      "text/html": [
       "<div>\n",
       "<table border=\"1\" class=\"dataframe\">\n",
       "  <thead>\n",
       "    <tr style=\"text-align: right;\">\n",
       "      <th></th>\n",
       "      <th>Friday</th>\n",
       "      <th>Monday</th>\n",
       "      <th>Saturday</th>\n",
       "      <th>Sunday</th>\n",
       "      <th>Thursday</th>\n",
       "      <th>Tuesday</th>\n",
       "      <th>Wednesday</th>\n",
       "      <th>BAYVIEW</th>\n",
       "      <th>CENTRAL</th>\n",
       "      <th>INGLESIDE</th>\n",
       "      <th>...</th>\n",
       "      <th>12-23</th>\n",
       "      <th>12-24</th>\n",
       "      <th>12-25</th>\n",
       "      <th>12-26</th>\n",
       "      <th>12-27</th>\n",
       "      <th>12-28</th>\n",
       "      <th>12-29</th>\n",
       "      <th>12-30</th>\n",
       "      <th>12-31</th>\n",
       "      <th>crime</th>\n",
       "    </tr>\n",
       "  </thead>\n",
       "  <tbody>\n",
       "    <tr>\n",
       "      <th>0</th>\n",
       "      <td>0.0</td>\n",
       "      <td>0.0</td>\n",
       "      <td>0.0</td>\n",
       "      <td>0.0</td>\n",
       "      <td>0.0</td>\n",
       "      <td>0.0</td>\n",
       "      <td>1.0</td>\n",
       "      <td>0.0</td>\n",
       "      <td>0.0</td>\n",
       "      <td>0.0</td>\n",
       "      <td>...</td>\n",
       "      <td>0.0</td>\n",
       "      <td>0.0</td>\n",
       "      <td>0.0</td>\n",
       "      <td>0.0</td>\n",
       "      <td>0.0</td>\n",
       "      <td>0.0</td>\n",
       "      <td>0.0</td>\n",
       "      <td>0.0</td>\n",
       "      <td>0.0</td>\n",
       "      <td>37</td>\n",
       "    </tr>\n",
       "    <tr>\n",
       "      <th>1</th>\n",
       "      <td>0.0</td>\n",
       "      <td>0.0</td>\n",
       "      <td>0.0</td>\n",
       "      <td>0.0</td>\n",
       "      <td>0.0</td>\n",
       "      <td>0.0</td>\n",
       "      <td>1.0</td>\n",
       "      <td>0.0</td>\n",
       "      <td>0.0</td>\n",
       "      <td>0.0</td>\n",
       "      <td>...</td>\n",
       "      <td>0.0</td>\n",
       "      <td>0.0</td>\n",
       "      <td>0.0</td>\n",
       "      <td>0.0</td>\n",
       "      <td>0.0</td>\n",
       "      <td>0.0</td>\n",
       "      <td>0.0</td>\n",
       "      <td>0.0</td>\n",
       "      <td>0.0</td>\n",
       "      <td>21</td>\n",
       "    </tr>\n",
       "    <tr>\n",
       "      <th>2</th>\n",
       "      <td>0.0</td>\n",
       "      <td>0.0</td>\n",
       "      <td>0.0</td>\n",
       "      <td>0.0</td>\n",
       "      <td>0.0</td>\n",
       "      <td>0.0</td>\n",
       "      <td>1.0</td>\n",
       "      <td>0.0</td>\n",
       "      <td>0.0</td>\n",
       "      <td>0.0</td>\n",
       "      <td>...</td>\n",
       "      <td>0.0</td>\n",
       "      <td>0.0</td>\n",
       "      <td>0.0</td>\n",
       "      <td>0.0</td>\n",
       "      <td>0.0</td>\n",
       "      <td>0.0</td>\n",
       "      <td>0.0</td>\n",
       "      <td>0.0</td>\n",
       "      <td>0.0</td>\n",
       "      <td>21</td>\n",
       "    </tr>\n",
       "    <tr>\n",
       "      <th>3</th>\n",
       "      <td>0.0</td>\n",
       "      <td>0.0</td>\n",
       "      <td>0.0</td>\n",
       "      <td>0.0</td>\n",
       "      <td>0.0</td>\n",
       "      <td>0.0</td>\n",
       "      <td>1.0</td>\n",
       "      <td>0.0</td>\n",
       "      <td>0.0</td>\n",
       "      <td>0.0</td>\n",
       "      <td>...</td>\n",
       "      <td>0.0</td>\n",
       "      <td>0.0</td>\n",
       "      <td>0.0</td>\n",
       "      <td>0.0</td>\n",
       "      <td>0.0</td>\n",
       "      <td>0.0</td>\n",
       "      <td>0.0</td>\n",
       "      <td>0.0</td>\n",
       "      <td>0.0</td>\n",
       "      <td>16</td>\n",
       "    </tr>\n",
       "    <tr>\n",
       "      <th>4</th>\n",
       "      <td>0.0</td>\n",
       "      <td>0.0</td>\n",
       "      <td>0.0</td>\n",
       "      <td>0.0</td>\n",
       "      <td>0.0</td>\n",
       "      <td>0.0</td>\n",
       "      <td>1.0</td>\n",
       "      <td>0.0</td>\n",
       "      <td>0.0</td>\n",
       "      <td>0.0</td>\n",
       "      <td>...</td>\n",
       "      <td>0.0</td>\n",
       "      <td>0.0</td>\n",
       "      <td>0.0</td>\n",
       "      <td>0.0</td>\n",
       "      <td>0.0</td>\n",
       "      <td>0.0</td>\n",
       "      <td>0.0</td>\n",
       "      <td>0.0</td>\n",
       "      <td>0.0</td>\n",
       "      <td>16</td>\n",
       "    </tr>\n",
       "  </tbody>\n",
       "</table>\n",
       "<p>5 rows × 415 columns</p>\n",
       "</div>"
      ],
      "text/plain": [
       "   Friday  Monday  Saturday  Sunday  Thursday  Tuesday  Wednesday  BAYVIEW  \\\n",
       "0     0.0     0.0       0.0     0.0       0.0      0.0        1.0      0.0   \n",
       "1     0.0     0.0       0.0     0.0       0.0      0.0        1.0      0.0   \n",
       "2     0.0     0.0       0.0     0.0       0.0      0.0        1.0      0.0   \n",
       "3     0.0     0.0       0.0     0.0       0.0      0.0        1.0      0.0   \n",
       "4     0.0     0.0       0.0     0.0       0.0      0.0        1.0      0.0   \n",
       "\n",
       "   CENTRAL  INGLESIDE  ...    12-23  12-24  12-25  12-26  12-27  12-28  12-29  \\\n",
       "0      0.0        0.0  ...      0.0    0.0    0.0    0.0    0.0    0.0    0.0   \n",
       "1      0.0        0.0  ...      0.0    0.0    0.0    0.0    0.0    0.0    0.0   \n",
       "2      0.0        0.0  ...      0.0    0.0    0.0    0.0    0.0    0.0    0.0   \n",
       "3      0.0        0.0  ...      0.0    0.0    0.0    0.0    0.0    0.0    0.0   \n",
       "4      0.0        0.0  ...      0.0    0.0    0.0    0.0    0.0    0.0    0.0   \n",
       "\n",
       "   12-30  12-31  crime  \n",
       "0    0.0    0.0     37  \n",
       "1    0.0    0.0     21  \n",
       "2    0.0    0.0     21  \n",
       "3    0.0    0.0     16  \n",
       "4    0.0    0.0     16  \n",
       "\n",
       "[5 rows x 415 columns]"
      ]
     },
     "execution_count": 5,
     "metadata": {},
     "output_type": "execute_result"
    }
   ],
   "source": [
    "dfTrain.head()"
   ]
  },
  {
   "cell_type": "markdown",
   "metadata": {},
   "source": [
    "By comparing the performance of the following model on dataset2 with result from the same model on dataset1 we can see that this model is not performing as well as before, thus not suitable for the current dataset. \n"
   ]
  },
  {
   "cell_type": "code",
   "execution_count": 6,
   "metadata": {
    "collapsed": false
   },
   "outputs": [
    {
     "name": "stdout",
     "output_type": "stream",
     "text": [
      "alpha:  10 LogLoss:  2.58313563897\n",
      "alpha:  30 LogLoss:  2.6760887283\n",
      "alpha:  50 LogLoss:  2.77910174764\n",
      "alpha:  70 LogLoss:  2.88361544721\n",
      "alpha:  90 LogLoss:  2.99709996625\n",
      "alpha:  110 LogLoss:  3.11634307398\n",
      "alpha:  130 LogLoss:  3.23097162877\n",
      "alpha:  150 LogLoss:  3.34400036117\n",
      "alpha:  170 LogLoss:  3.45461644811\n",
      "alpha:  190 LogLoss:  3.56593185496\n",
      "alpha:  210 LogLoss:  3.66960125691\n",
      "alpha:  230 LogLoss:  3.77211015505\n",
      "alpha:  250 LogLoss:  3.86698973369\n",
      "alpha:  270 LogLoss:  3.96153379559\n",
      "alpha:  290 LogLoss:  4.05762286891\n",
      "alpha:  310 LogLoss:  4.15505990459\n",
      "alpha:  330 LogLoss:  4.25142004687\n",
      "alpha:  350 LogLoss:  4.34529139622\n",
      "alpha:  370 LogLoss:  4.44006689266\n",
      "alpha:  390 LogLoss:  4.53584594174\n",
      "alpha:  410 LogLoss:  4.63253475007\n",
      "alpha:  430 LogLoss:  4.72997530165\n",
      "alpha:  450 LogLoss:  4.82412803128\n",
      "alpha:  470 LogLoss:  4.90803440933\n",
      "alpha:  490 LogLoss:  4.98438869134\n",
      "alpha:  510 LogLoss:  5.06026818205\n",
      "alpha:  530 LogLoss:  5.1368525484\n",
      "alpha:  550 LogLoss:  5.21410397391\n",
      "alpha:  570 LogLoss:  5.29197156264\n",
      "alpha:  590 LogLoss:  5.37040783694\n"
     ]
    },
    {
     "data": {
      "text/plain": [
       "[<matplotlib.lines.Line2D at 0x7f72f20b9278>]"
      ]
     },
     "execution_count": 6,
     "metadata": {},
     "output_type": "execute_result"
    },
    {
     "data": {
      "image/png": "[encoded data removed]",
      "text/plain": [
       "<matplotlib.figure.Figure at 0x7f72f1b4e320>"
      ]
     },
     "metadata": {},
     "output_type": "display_data"
    }
   ],
   "source": [
    "LLscores = []\n",
    "for a in range (10, 600, 20):\n",
    "    \n",
    "    model = BernoulliNB(alpha = a)\n",
    "    \n",
    "    model.fit(dfTrain.drop(['crime'], axis = 1), dfTrain['crime'])\n",
    "    predicted = np.array(model.predict_proba(dfTrain.drop(['crime'], axis = 1)))\n",
    "    score = log_loss(dfTrain['crime'], predicted) \n",
    "    print (\"alpha: \", a, \"LogLoss: \", score)\n",
    "    LLscores.append(score)\n",
    "df  = pd.DataFrame({'alpha': range(10, 600, 20), 'LogLoss': LLscores})\n",
    "df= df.set_index(['LogLoss'])\n",
    "plt.plot(df)"
   ]
  },
  {
   "cell_type": "markdown",
   "metadata": {},
   "source": [
    "Although the following code was interrupted before finishing, due to my limited ram, but what we can learn from the reported log_loss value is that, larger value of min_sample_split reduces overfitting for each value of n_estimators. I have also, confirmed this conclusion by submitting a “RandomForestClassifier” model with log_loss of 1.23887 which resulted in 8.79 Kaggle score.  \n"
   ]
  },
  {
   "cell_type": "code",
   "execution_count": 7,
   "metadata": {
    "collapsed": false
   },
   "outputs": [
    {
     "name": "stdout",
     "output_type": "stream",
     "text": [
      "n_estimators:  10 LogLoss:  2.41550642738\n",
      "n_estimators:  30 LogLoss:  2.39834190119\n",
      "n_estimators:  50 LogLoss:  2.39629331848\n",
      "n_estimators:  70 LogLoss:  2.39384815593\n",
      "n_estimators:  90 LogLoss:  2.39199087614\n",
      "n_estimators:  110 LogLoss:  2.39138504495\n",
      "n_estimators:  130 LogLoss:  2.39129151008\n",
      "n_estimators:  150 LogLoss:  2.39084649991\n",
      "n_estimators:  170 LogLoss:  2.39098189253\n",
      "n_estimators:  190 LogLoss:  2.39085204548\n",
      "n_estimators:  210 LogLoss:  2.39068019427\n",
      "n_estimators:  230 LogLoss:  2.38965386298\n",
      "n_estimators:  250 LogLoss:  2.38983532992\n",
      "n_estimators:  270 LogLoss:  2.38993769738\n",
      "n_estimators:  290 LogLoss:  2.38970259114\n",
      "n_estimators:  310 LogLoss:  2.38967006895\n",
      "n_estimators:  330 LogLoss:  2.38963795524\n",
      "n_estimators:  350 LogLoss:  2.38985212198\n",
      "n_estimators:  370 LogLoss:  2.38951139686\n",
      "n_estimators:  390 LogLoss:  2.38937384325\n",
      "n_estimators:  410 LogLoss:  2.38939529747\n"
     ]
    },
    {
     "data": {
      "text/plain": [
       "[<matplotlib.lines.Line2D at 0x7f72f1549240>]"
      ]
     },
     "execution_count": 7,
     "metadata": {},
     "output_type": "execute_result"
    },
    {
     "data": {
      "image/png": "[encoded data removed]",
      "text/plain": [
       "<matplotlib.figure.Figure at 0x7f72e7a2eb00>"
      ]
     },
     "metadata": {},
     "output_type": "display_data"
    }
   ],
   "source": [
    "LLscores = []\n",
    "for a in range (10, 420, 20):\n",
    "    model = RandomForestClassifier(n_estimators = a , \n",
    "                                       min_samples_split = 500, \n",
    "                                       criterion = 'entropy', \n",
    "                                       n_jobs = -1)\n",
    "    model.fit(dfTrain.drop(['crime'], axis = 1), dfTrain['crime'])\n",
    "    predicted = np.array(model.predict_proba(dfTrain.drop(['crime'], axis = 1)))\n",
    "    score = log_loss(dfTrain['crime'], predicted) \n",
    "    print (\"n_estimators: \", a, \"LogLoss: \", score)\n",
    "    LLscores.append(score)\n",
    "df  = pd.DataFrame({'n_estimators': range(10, 420, 20), 'LogLoss': LLscores})\n",
    "df= df.set_index(['LogLoss'])\n",
    "plt.plot(df)"
   ]
  },
  {
   "cell_type": "code",
   "execution_count": 8,
   "metadata": {
    "collapsed": false
   },
   "outputs": [
    {
     "name": "stdout",
     "output_type": "stream",
     "text": [
      "min_samples_split:  10 LogLoss:  1.22549580215\n",
      "min_samples_split:  30 LogLoss:  1.64991344036\n",
      "min_samples_split:  50 LogLoss:  1.82769150363\n",
      "min_samples_split:  70 LogLoss:  1.93081987573\n",
      "min_samples_split:  90 LogLoss:  2.00786887823\n",
      "min_samples_split:  110 LogLoss:  2.06815424211\n",
      "min_samples_split:  130 LogLoss:  2.11776634831\n",
      "min_samples_split:  150 LogLoss:  2.16033757308\n",
      "min_samples_split:  170 LogLoss:  2.19443611125\n",
      "min_samples_split:  190 LogLoss:  2.22266000483\n",
      "min_samples_split:  210 LogLoss:  2.24700255198\n",
      "min_samples_split:  230 LogLoss:  2.26809022976\n",
      "min_samples_split:  250 LogLoss:  2.28496856327\n",
      "min_samples_split:  270 LogLoss:  2.29975819829\n",
      "min_samples_split:  290 LogLoss:  2.31256992533\n",
      "min_samples_split:  310 LogLoss:  2.32490100675\n",
      "min_samples_split:  330 LogLoss:  2.33451468255\n",
      "min_samples_split:  350 LogLoss:  2.34353720253\n",
      "min_samples_split:  370 LogLoss:  2.35183652091\n",
      "min_samples_split:  390 LogLoss:  2.35984365807\n",
      "min_samples_split:  410 LogLoss:  2.36583923151\n",
      "min_samples_split:  430 LogLoss:  2.37278141602\n",
      "min_samples_split:  450 LogLoss:  2.37725165495\n",
      "min_samples_split:  470 LogLoss:  2.3828898973\n",
      "min_samples_split:  490 LogLoss:  2.38780334691\n",
      "min_samples_split:  510 LogLoss:  2.39266951927\n",
      "min_samples_split:  530 LogLoss:  2.39609339277\n",
      "min_samples_split:  550 LogLoss:  2.40090921446\n",
      "min_samples_split:  570 LogLoss:  2.40527935513\n",
      "min_samples_split:  590 LogLoss:  2.40770098303\n",
      "min_samples_split:  610 LogLoss:  2.41194682312\n",
      "min_samples_split:  630 LogLoss:  2.41521327085\n",
      "min_samples_split:  650 LogLoss:  2.41845211854\n",
      "min_samples_split:  670 LogLoss:  2.42195578857\n",
      "min_samples_split:  690 LogLoss:  2.42485062985\n"
     ]
    },
    {
     "data": {
      "text/plain": [
       "[<matplotlib.lines.Line2D at 0x7f72f512fc18>]"
      ]
     },
     "execution_count": 8,
     "metadata": {},
     "output_type": "execute_result"
    },
    {
     "data": {
      "image/png": "[encoded data removed]",
      "text/plain": [
       "<matplotlib.figure.Figure at 0x7f72f155f780>"
      ]
     },
     "metadata": {},
     "output_type": "display_data"
    }
   ],
   "source": [
    "LLscores = []\n",
    "for a in range (10, 700, 20):\n",
    "    model = RandomForestClassifier(n_estimators = 200 , \n",
    "                                       min_samples_split = a, \n",
    "                                       criterion = 'entropy', \n",
    "                                       n_jobs = -1)\n",
    "    model.fit(dfTrain.drop(['crime'], axis = 1), dfTrain['crime'])\n",
    "    predicted = np.array(model.predict_proba(dfTrain.drop(['crime'], axis = 1)))\n",
    "    score = log_loss(dfTrain['crime'], predicted) \n",
    "    print (\"min_samples_split: \", a, \"LogLoss: \", score)\n",
    "    LLscores.append(score)\n",
    "df  = pd.DataFrame({'min_samples_split': range(10, 700, 20),'LogLoss': LLscores})\n",
    "df= df.set_index(['LogLoss'])\n",
    "plt.plot(df)"
   ]
  },
  {
   "cell_type": "markdown",
   "metadata": {},
   "source": [
    "\n",
    "# Making a prediction on the test data set\n",
    "\n",
    "Initially we need to convert the test dataset to dummy variables similar to what we did to make “dfTrain”.\n",
    "\n"
   ]
  },
  {
   "cell_type": "code",
   "execution_count": 9,
   "metadata": {
    "collapsed": false
   },
   "outputs": [],
   "source": [
    "test=pd.read_csv('../../Dataset/test-2.csv', parse_dates = ['Dates'])\n",
    "test['DayOfYear'] = test['Dates'].map(lambda x: x.strftime(\"%m-%d\"))\n",
    "test['hour'] = test.Dates.dt.hour\n",
    "test['year'] = test.Dates.dt.year\n",
    "\n",
    "cate_variables = ['DayOfWeek','PdDistrict','hour','year','DayOfYear']\n",
    "dfTest = pd.DataFrame()\n",
    "\n",
    "for var_name in cate_variables: \n",
    "    \n",
    "    df = pd.get_dummies(test[var_name]) \n",
    "    test = test.drop([var_name], axis = 1)\n",
    "    \n",
    "    if dfTest.empty:\n",
    "        dfTest = df\n",
    "    else:\n",
    "        dfTest = dfTest.join(df)\n"
   ]
  },
  {
   "cell_type": "code",
   "execution_count": 10,
   "metadata": {
    "collapsed": false
   },
   "outputs": [],
   "source": [
    "dfTest = dfTest.drop(['01-03', '01-04'], axis = 1)"
   ]
  },
  {
   "cell_type": "code",
   "execution_count": 11,
   "metadata": {
    "collapsed": false
   },
   "outputs": [
    {
     "data": {
      "text/html": [
       "<div>\n",
       "<table border=\"1\" class=\"dataframe\">\n",
       "  <thead>\n",
       "    <tr style=\"text-align: right;\">\n",
       "      <th></th>\n",
       "      <th>Friday</th>\n",
       "      <th>Monday</th>\n",
       "      <th>Saturday</th>\n",
       "      <th>Sunday</th>\n",
       "      <th>Thursday</th>\n",
       "      <th>Tuesday</th>\n",
       "      <th>Wednesday</th>\n",
       "      <th>BAYVIEW</th>\n",
       "      <th>CENTRAL</th>\n",
       "      <th>INGLESIDE</th>\n",
       "      <th>...</th>\n",
       "      <th>12-22</th>\n",
       "      <th>12-23</th>\n",
       "      <th>12-24</th>\n",
       "      <th>12-25</th>\n",
       "      <th>12-26</th>\n",
       "      <th>12-27</th>\n",
       "      <th>12-28</th>\n",
       "      <th>12-29</th>\n",
       "      <th>12-30</th>\n",
       "      <th>12-31</th>\n",
       "    </tr>\n",
       "  </thead>\n",
       "  <tbody>\n",
       "    <tr>\n",
       "      <th>0</th>\n",
       "      <td>0.0</td>\n",
       "      <td>0.0</td>\n",
       "      <td>0.0</td>\n",
       "      <td>1.0</td>\n",
       "      <td>0.0</td>\n",
       "      <td>0.0</td>\n",
       "      <td>0.0</td>\n",
       "      <td>1.0</td>\n",
       "      <td>0.0</td>\n",
       "      <td>0.0</td>\n",
       "      <td>...</td>\n",
       "      <td>0.0</td>\n",
       "      <td>0.0</td>\n",
       "      <td>0.0</td>\n",
       "      <td>0.0</td>\n",
       "      <td>0.0</td>\n",
       "      <td>0.0</td>\n",
       "      <td>0.0</td>\n",
       "      <td>0.0</td>\n",
       "      <td>0.0</td>\n",
       "      <td>0.0</td>\n",
       "    </tr>\n",
       "    <tr>\n",
       "      <th>1</th>\n",
       "      <td>0.0</td>\n",
       "      <td>0.0</td>\n",
       "      <td>0.0</td>\n",
       "      <td>1.0</td>\n",
       "      <td>0.0</td>\n",
       "      <td>0.0</td>\n",
       "      <td>0.0</td>\n",
       "      <td>1.0</td>\n",
       "      <td>0.0</td>\n",
       "      <td>0.0</td>\n",
       "      <td>...</td>\n",
       "      <td>0.0</td>\n",
       "      <td>0.0</td>\n",
       "      <td>0.0</td>\n",
       "      <td>0.0</td>\n",
       "      <td>0.0</td>\n",
       "      <td>0.0</td>\n",
       "      <td>0.0</td>\n",
       "      <td>0.0</td>\n",
       "      <td>0.0</td>\n",
       "      <td>0.0</td>\n",
       "    </tr>\n",
       "    <tr>\n",
       "      <th>2</th>\n",
       "      <td>0.0</td>\n",
       "      <td>0.0</td>\n",
       "      <td>0.0</td>\n",
       "      <td>1.0</td>\n",
       "      <td>0.0</td>\n",
       "      <td>0.0</td>\n",
       "      <td>0.0</td>\n",
       "      <td>0.0</td>\n",
       "      <td>0.0</td>\n",
       "      <td>0.0</td>\n",
       "      <td>...</td>\n",
       "      <td>0.0</td>\n",
       "      <td>0.0</td>\n",
       "      <td>0.0</td>\n",
       "      <td>0.0</td>\n",
       "      <td>0.0</td>\n",
       "      <td>0.0</td>\n",
       "      <td>0.0</td>\n",
       "      <td>0.0</td>\n",
       "      <td>0.0</td>\n",
       "      <td>0.0</td>\n",
       "    </tr>\n",
       "    <tr>\n",
       "      <th>3</th>\n",
       "      <td>0.0</td>\n",
       "      <td>0.0</td>\n",
       "      <td>0.0</td>\n",
       "      <td>1.0</td>\n",
       "      <td>0.0</td>\n",
       "      <td>0.0</td>\n",
       "      <td>0.0</td>\n",
       "      <td>0.0</td>\n",
       "      <td>0.0</td>\n",
       "      <td>1.0</td>\n",
       "      <td>...</td>\n",
       "      <td>0.0</td>\n",
       "      <td>0.0</td>\n",
       "      <td>0.0</td>\n",
       "      <td>0.0</td>\n",
       "      <td>0.0</td>\n",
       "      <td>0.0</td>\n",
       "      <td>0.0</td>\n",
       "      <td>0.0</td>\n",
       "      <td>0.0</td>\n",
       "      <td>0.0</td>\n",
       "    </tr>\n",
       "    <tr>\n",
       "      <th>4</th>\n",
       "      <td>0.0</td>\n",
       "      <td>0.0</td>\n",
       "      <td>0.0</td>\n",
       "      <td>1.0</td>\n",
       "      <td>0.0</td>\n",
       "      <td>0.0</td>\n",
       "      <td>0.0</td>\n",
       "      <td>0.0</td>\n",
       "      <td>0.0</td>\n",
       "      <td>1.0</td>\n",
       "      <td>...</td>\n",
       "      <td>0.0</td>\n",
       "      <td>0.0</td>\n",
       "      <td>0.0</td>\n",
       "      <td>0.0</td>\n",
       "      <td>0.0</td>\n",
       "      <td>0.0</td>\n",
       "      <td>0.0</td>\n",
       "      <td>0.0</td>\n",
       "      <td>0.0</td>\n",
       "      <td>0.0</td>\n",
       "    </tr>\n",
       "  </tbody>\n",
       "</table>\n",
       "<p>5 rows × 414 columns</p>\n",
       "</div>"
      ],
      "text/plain": [
       "   Friday  Monday  Saturday  Sunday  Thursday  Tuesday  Wednesday  BAYVIEW  \\\n",
       "0     0.0     0.0       0.0     1.0       0.0      0.0        0.0      1.0   \n",
       "1     0.0     0.0       0.0     1.0       0.0      0.0        0.0      1.0   \n",
       "2     0.0     0.0       0.0     1.0       0.0      0.0        0.0      0.0   \n",
       "3     0.0     0.0       0.0     1.0       0.0      0.0        0.0      0.0   \n",
       "4     0.0     0.0       0.0     1.0       0.0      0.0        0.0      0.0   \n",
       "\n",
       "   CENTRAL  INGLESIDE  ...    12-22  12-23  12-24  12-25  12-26  12-27  12-28  \\\n",
       "0      0.0        0.0  ...      0.0    0.0    0.0    0.0    0.0    0.0    0.0   \n",
       "1      0.0        0.0  ...      0.0    0.0    0.0    0.0    0.0    0.0    0.0   \n",
       "2      0.0        0.0  ...      0.0    0.0    0.0    0.0    0.0    0.0    0.0   \n",
       "3      0.0        1.0  ...      0.0    0.0    0.0    0.0    0.0    0.0    0.0   \n",
       "4      0.0        1.0  ...      0.0    0.0    0.0    0.0    0.0    0.0    0.0   \n",
       "\n",
       "   12-29  12-30  12-31  \n",
       "0    0.0    0.0    0.0  \n",
       "1    0.0    0.0    0.0  \n",
       "2    0.0    0.0    0.0  \n",
       "3    0.0    0.0    0.0  \n",
       "4    0.0    0.0    0.0  \n",
       "\n",
       "[5 rows x 414 columns]"
      ]
     },
     "execution_count": 11,
     "metadata": {},
     "output_type": "execute_result"
    }
   ],
   "source": [
    "dfTest.head()"
   ]
  },
  {
   "cell_type": "markdown",
   "metadata": {
    "collapsed": true
   },
   "source": [
    "## RandomForestClassifier\n",
    "\n",
    "The following model has a log_loss value of 2.308 on the test dataset1 with the Kaggle score of 2.847. However, this model perform differently on dataset2, as we have 2.0052 and 2.63824.  as our log_loss for dataset2 and Kaggle respectively. \n",
    "\n"
   ]
  },
  {
   "cell_type": "code",
   "execution_count": 12,
   "metadata": {
    "collapsed": false
   },
   "outputs": [
    {
     "data": {
      "text/plain": [
       "2.0056582500793381"
      ]
     },
     "execution_count": 12,
     "metadata": {},
     "output_type": "execute_result"
    }
   ],
   "source": [
    "model = RandomForestClassifier(n_estimators = 400 , \n",
    "                               min_samples_split = 90, \n",
    "                               criterion = 'entropy',\n",
    "                               n_jobs = -1)\n",
    "\n",
    "model.fit(dfTrain.drop(['crime'], axis = 1), dfTrain['crime'])\n",
    "predicted = np.array(model.predict_proba(dfTrain.drop(['crime'], axis = 1)))\n",
    "log_loss(dfTrain['crime'], predicted)"
   ]
  },
  {
   "cell_type": "code",
   "execution_count": 13,
   "metadata": {
    "collapsed": false
   },
   "outputs": [],
   "source": [
    "predicted = model.predict_proba(dfTest)\n",
    "result=pd.DataFrame(predicted, columns =crimeCat.classes_)\n",
    "result.to_csv('../../Prediction/RandomForestClassifier_DS2.csv', index = True, index_label = 'Id' )"
   ]
  },
  {
   "cell_type": "markdown",
   "metadata": {},
   "source": [
    "This model that has the log_loss of 2.3900 give a 2.56066 score in Kaggle. This means that the higher the min_sample_split the more accurate the model works on the test data set. \n"
   ]
  },
  {
   "cell_type": "code",
   "execution_count": 14,
   "metadata": {
    "collapsed": false
   },
   "outputs": [
    {
     "data": {
      "text/plain": [
       "2.3897772059171234"
      ]
     },
     "execution_count": 14,
     "metadata": {},
     "output_type": "execute_result"
    }
   ],
   "source": [
    "model = RandomForestClassifier(n_estimators = 400 , \n",
    "                               min_samples_split = 500, \n",
    "                               criterion = 'entropy',\n",
    "                               n_jobs = -1)\n",
    "\n",
    "model.fit(dfTrain.drop(['crime'], axis = 1), dfTrain['crime'])\n",
    "predicted = np.array(model.predict_proba(dfTrain.drop(['crime'], axis = 1)))\n",
    "log_loss(dfTrain['crime'], predicted)"
   ]
  },
  {
   "cell_type": "code",
   "execution_count": 15,
   "metadata": {
    "collapsed": true
   },
   "outputs": [],
   "source": [
    "predicted = model.predict_proba(dfTest)\n",
    "result=pd.DataFrame(predicted, columns =crimeCat.classes_)\n",
    "result.to_csv('../../Prediction/RandomForestClassifier_DS2.csv', index = True, index_label = 'Id' )"
   ]
  },
  {
   "cell_type": "markdown",
   "metadata": {},
   "source": [
    "This model that has the log_loss of 2.4262 give a 2.55954 score in Kaggle. This means that the higher the min_sample_split the more accurate the model works on the test data set."
   ]
  },
  {
   "cell_type": "code",
   "execution_count": 16,
   "metadata": {
    "collapsed": false
   },
   "outputs": [
    {
     "data": {
      "text/plain": [
       "2.4254977465355543"
      ]
     },
     "execution_count": 16,
     "metadata": {},
     "output_type": "execute_result"
    }
   ],
   "source": [
    "model = RandomForestClassifier(n_estimators = 200 , \n",
    "                               min_samples_split = 700, \n",
    "                               criterion = 'entropy',\n",
    "                               n_jobs = -1)\n",
    "\n",
    "model.fit(dfTrain.drop(['crime'], axis = 1), dfTrain['crime'])\n",
    "predicted = np.array(model.predict_proba(dfTrain.drop(['crime'], axis = 1)))\n",
    "log_loss(dfTrain['crime'], predicted)"
   ]
  },
  {
   "cell_type": "code",
   "execution_count": 17,
   "metadata": {
    "collapsed": false
   },
   "outputs": [],
   "source": [
    "predicted = model.predict_proba(dfTest)\n",
    "result=pd.DataFrame(predicted, columns =crimeCat.classes_)\n",
    "result.to_csv('../../Prediction/RandomForestClassifier_DS2.csv', index = True, index_label = 'Id' )"
   ]
  },
  {
   "cell_type": "markdown",
   "metadata": {},
   "source": [
    "This model that has the log_loss of 2.45858 give a 2.55960 score in Kaggle. This means that the higher the min_sample_split the more accurate the model works on the test data set."
   ]
  },
  {
   "cell_type": "code",
   "execution_count": 18,
   "metadata": {
    "collapsed": false
   },
   "outputs": [
    {
     "data": {
      "text/plain": [
       "2.4588327306305091"
      ]
     },
     "execution_count": 18,
     "metadata": {},
     "output_type": "execute_result"
    }
   ],
   "source": [
    "model = RandomForestClassifier(n_estimators = 200 , \n",
    "                               min_samples_split = 1000, \n",
    "                               criterion = 'entropy',\n",
    "                               n_jobs = -1)\n",
    "\n",
    "model.fit(dfTrain.drop(['crime'], axis = 1), dfTrain['crime'])\n",
    "predicted = np.array(model.predict_proba(dfTrain.drop(['crime'], axis = 1)))\n",
    "log_loss(dfTrain['crime'], predicted)"
   ]
  },
  {
   "cell_type": "code",
   "execution_count": 19,
   "metadata": {
    "collapsed": true
   },
   "outputs": [],
   "source": [
    "predicted = model.predict_proba(dfTest)\n",
    "result=pd.DataFrame(predicted, columns =crimeCat.classes_)\n",
    "result.to_csv('../../Prediction/RandomForestClassifier_DS2.csv', index = True, index_label = 'Id' )"
   ]
  }
 ],
 "metadata": {
  "anaconda-cloud": {},
  "kernelspec": {
   "display_name": "Python [Root]",
   "language": "python",
   "name": "Python [Root]"
  },
  "language_info": {
   "codemirror_mode": {
    "name": "ipython",
    "version": 3
   },
   "file_extension": ".py",
   "mimetype": "text/x-python",
   "name": "python",
   "nbconvert_exporter": "python",
   "pygments_lexer": "ipython3",
   "version": "3.5.2"
  }
 },
 "nbformat": 4,
 "nbformat_minor": 0
}
